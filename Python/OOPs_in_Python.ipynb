{
  "nbformat": 4,
  "nbformat_minor": 0,
  "metadata": {
    "colab": {
      "provenance": []
    },
    "kernelspec": {
      "name": "python3",
      "display_name": "Python 3"
    },
    "language_info": {
      "name": "python"
    }
  },
  "cells": [
    {
      "cell_type": "markdown",
      "source": [
        "# **Introduction to OOP in Python:**\n",
        "\n",
        "*Object-Oriented Programming (OOP) Principles:*\n",
        "OOP is a programming paradigm centered around objects, which encapsulate data and behavior. Key principles include encapsulation, inheritance, polymorphism, and abstraction.\n",
        "\n",
        "*Python's Support for OOP:*\n",
        "Python is an object-oriented language that seamlessly integrates OOP principles. It allows the creation of classes and objects, supports inheritance for code reuse, enables polymorphism for flexibility, and facilitates abstraction through class interfaces. Python's syntax and dynamic typing enhance the implementation of OOP concepts, making it a versatile language for building modular and scalable applications."
      ],
      "metadata": {
        "id": "95iYblIDYfDl"
      }
    },
    {
      "cell_type": "markdown",
      "source": [
        "**Classes and Objects in Python:**\n",
        "\n",
        "*Understanding Classes and Objects:*\n",
        "Classes are blueprints for creating objects. Objects are instances of these classes, encapsulating both data and functionality. Think of a class as a template and an object as a specific instance created from that template.\n",
        "\n",
        "*Creating and Using Classes:*\n",
        "\n",
        "\n"
      ],
      "metadata": {
        "id": "g3NThLsdaUEd"
      }
    },
    {
      "cell_type": "code",
      "execution_count": 5,
      "metadata": {
        "colab": {
          "base_uri": "https://localhost:8080/"
        },
        "id": "Z5mdchWSYaQ-",
        "outputId": "eb02988c-407e-44f8-d2a4-04cede19df0c"
      },
      "outputs": [
        {
          "output_type": "stream",
          "name": "stdout",
          "text": [
            "Toyota\n",
            "Toyota Camry\n"
          ]
        }
      ],
      "source": [
        "class Car:\n",
        "  def __init__(self,make,model):  # Self is an instance\n",
        "    self.make=make\n",
        "    self.model=model\n",
        "\n",
        "  def display_info(self):\n",
        "    print(f\"{self.make} {self.model}\")\n",
        "\n",
        "# Creating an object of the Car class\n",
        "my_car = Car(\"Toyota\", \"Camry\")\n",
        "\n",
        "# Accessing object's attributes and calling a method\n",
        "print(my_car.make)          # Output: Toyota\n",
        "my_car.display_info()       # Output: Toyota Camry\n"
      ]
    },
    {
      "cell_type": "markdown",
      "source": [
        "*Instance Variables and Methods:*\n",
        "Instance variables store data unique to each object, while methods are functions associated with objects.\n"
      ],
      "metadata": {
        "id": "ZJKzk6ssbgWy"
      }
    },
    {
      "cell_type": "code",
      "source": [
        "class Student:\n",
        "    def __init__(self, name, age):\n",
        "        self.name = name\n",
        "        self.age = age\n",
        "\n",
        "    def display_info(self):\n",
        "        print(f\"Name: {self.name}, Age: {self.age}\")\n",
        "\n",
        "# Creating an object of the Student class\n",
        "student1 = Student(\"John\", 20)\n",
        "\n",
        "# Accessing object's instance variables and calling a method\n",
        "print(student1.name)        # Output: John\n",
        "student1.display_info()     # Output: Name: John, Age: 20"
      ],
      "metadata": {
        "colab": {
          "base_uri": "https://localhost:8080/"
        },
        "id": "upT7tImabGF2",
        "outputId": "406bc518-e381-4838-98d5-4a94c2d2220e"
      },
      "execution_count": 6,
      "outputs": [
        {
          "output_type": "stream",
          "name": "stdout",
          "text": [
            "John\n",
            "Name: John, Age: 20\n"
          ]
        }
      ]
    },
    {
      "cell_type": "code",
      "source": [],
      "metadata": {
        "id": "mYTYT_iAbh1I"
      },
      "execution_count": null,
      "outputs": []
    },
    {
      "cell_type": "markdown",
      "source": [
        "**Inheritance in Python:**\n",
        "\n",
        "*Explaining Inheritance and Its Benefits:*\n",
        "Inheritance is a feature in OOP that allows a new class (subclass) to inherit attributes and methods from an existing class (superclass). It promotes code reuse, as the subclass can reuse and extend the functionality of the superclass. It establishes an \"is-a\" relationship between classes.\n",
        "\n",
        "*Creating and Using Subclasses:*"
      ],
      "metadata": {
        "id": "Q4mV3t5Jcg9Z"
      }
    },
    {
      "cell_type": "code",
      "source": [
        "class Animal:\n",
        "  def __init__(self,name):\n",
        "    self.name=name\n",
        "  def speak(self):\n",
        "    print(\"Animal Speak\")\n",
        "\n",
        "class Dog(Animal):\n",
        "  # def __init__(self,name):       We can do this without init if we don;t have any variable which are in class Dog\n",
        "  #   super().__init__(name)\n",
        "  def bark(self):\n",
        "    print(\"Woof!\")\n",
        "\n",
        "  # Creating an instance of the Dog class\n",
        "dog_instance = Dog(\"Buddy\")\n",
        "\n",
        "# Accessing attributes and methods from both superclass and subclass\n",
        "print(dog_instance.name)  # Output: Buddy\n",
        "dog_instance.speak()      # Output: Animal speaks\n",
        "dog_instance.bark()       # Output: Woof!"
      ],
      "metadata": {
        "colab": {
          "base_uri": "https://localhost:8080/"
        },
        "id": "EnyZT56Dchd2",
        "outputId": "8a1f2a1e-258a-45c0-88e3-f8c571924426"
      },
      "execution_count": 9,
      "outputs": [
        {
          "output_type": "stream",
          "name": "stdout",
          "text": [
            "Buddy\n",
            "Animal Speak\n",
            "Woof!\n"
          ]
        }
      ]
    },
    {
      "cell_type": "markdown",
      "source": [
        "# Method Overloading\n",
        "\n",
        "In this example, Dog and Cat are subclasses of the Animal superclass. They inherit the __init__ method and the speak method. The Cat class demonstrates method overriding by providing its own implementation of the speak method, replacing the one from the superclass.\n",
        "\n",
        "\n",
        "\n",
        "\n"
      ],
      "metadata": {
        "id": "1Nd7A7IFeXYr"
      }
    },
    {
      "cell_type": "code",
      "source": [
        "class Cat(Animal):\n",
        "  def speak(self):\n",
        "    print(f\"{self.name}-Meow !!\") # Overriding the speak method from the superclass\n",
        "\n",
        "cat_instance=Cat('Tom')\n",
        "\n",
        "# Calling the overridden speak method\n",
        "cat_instance.speak()  # Output: Meow!"
      ],
      "metadata": {
        "colab": {
          "base_uri": "https://localhost:8080/"
        },
        "id": "fG7UCWCkdVsf",
        "outputId": "0d99b528-234d-4016-a04b-ac7d0bb42615"
      },
      "execution_count": 12,
      "outputs": [
        {
          "output_type": "stream",
          "name": "stdout",
          "text": [
            "Tom-Meow !!\n"
          ]
        }
      ]
    },
    {
      "cell_type": "markdown",
      "source": [
        "## Diffrent types of Inheritence\n",
        "![image.png](data:image/png;base64,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)"
      ],
      "metadata": {
        "id": "QpVLb4G0f_E3"
      }
    },
    {
      "cell_type": "code",
      "source": [
        "# Single Inheritance\n",
        "class Animal:\n",
        "    def speak(self):\n",
        "        print(\"Animal speaks\")\n",
        "\n",
        "class Dog(Animal):\n",
        "    def bark(self):\n",
        "        print(\"Woof!\")\n",
        "\n",
        "dog_instance = Dog()\n",
        "dog_instance.speak()  # Output: Animal speaks\n",
        "dog_instance.bark()   # Output: Woof!\n",
        "\n",
        "# Multiple Inheritance\n",
        "class Bird:\n",
        "    def chirp(self):\n",
        "        print(\"Bird chirps\")\n",
        "\n",
        "class Hybrid(Dog, Bird):\n",
        "    pass\n",
        "\n",
        "hybrid_instance = Hybrid()\n",
        "hybrid_instance.speak()  # Output: Animal speaks\n",
        "hybrid_instance.bark()   # Output: Woof!\n",
        "hybrid_instance.chirp()  # Output: Bird chirps\n",
        "\n",
        "# Multilevel Inheritance\n",
        "class Mammal(Animal):\n",
        "    def feed_milk(self):\n",
        "        print(\"Mammal feeds milk\")\n",
        "\n",
        "class Cat(Mammal):\n",
        "    def meow(self):\n",
        "        print(\"Meow!\")\n",
        "\n",
        "cat_instance = Cat()\n",
        "cat_instance.speak()       # Output: Animal speaks\n",
        "cat_instance.feed_milk()   # Output: Mammal feeds milk\n",
        "cat_instance.meow()        # Output: Meow!\n",
        "\n",
        "# Hierarchical Inheritance\n",
        "class Shape:\n",
        "    def draw(self):\n",
        "        print(\"Drawing shape\")\n",
        "\n",
        "class Circle(Shape):\n",
        "    def draw_circle(self):\n",
        "        print(\"Drawing circle\")\n",
        "\n",
        "class Square(Shape):\n",
        "    def draw_square(self):\n",
        "        print(\"Drawing square\")\n",
        "\n",
        "circle_instance = Circle()\n",
        "square_instance = Square()\n",
        "\n",
        "circle_instance.draw()        # Output: Drawing shape\n",
        "circle_instance.draw_circle() # Output: Drawing circle\n",
        "\n",
        "square_instance.draw()        # Output: Drawing shape\n",
        "square_instance.draw_square() # Output: Drawing square\n"
      ],
      "metadata": {
        "colab": {
          "base_uri": "https://localhost:8080/"
        },
        "id": "Jgr3nnyAevHq",
        "outputId": "ed25a21a-0447-4bc0-e06f-d48dfedb9dfa"
      },
      "execution_count": 13,
      "outputs": [
        {
          "output_type": "stream",
          "name": "stdout",
          "text": [
            "Animal speaks\n",
            "Woof!\n",
            "Animal speaks\n",
            "Woof!\n",
            "Bird chirps\n",
            "Animal speaks\n",
            "Mammal feeds milk\n",
            "Meow!\n",
            "Drawing shape\n",
            "Drawing circle\n",
            "Drawing shape\n",
            "Drawing square\n"
          ]
        }
      ]
    },
    {
      "cell_type": "markdown",
      "source": [
        "**Encapsulation in Python:**\n",
        "\n",
        "*Encapsulation Principles:*\n",
        "Encapsulation is the bundling of data (attributes) and methods that operate on the data within a single unit (a class). It hides the internal details of the object and protects its state.\n",
        "\n",
        "*Access Modifiers:*\n",
        "   - **Public:** Accessible from outside the class.\n",
        "   - **Private:** Accessible only within the class.\n",
        "   - **Protected:** Accessible within the class and its subclasses.\n",
        "\n",
        "### ** Important Point- Members declared as protected in the base class are accessible in the derived class. They are not accessible outside the class, but they can be accessed by subclasses. **"
      ],
      "metadata": {
        "id": "_iiLBYg4ksoT"
      }
    },
    {
      "cell_type": "code",
      "source": [
        "class BankAccount:\n",
        "    def __init__(self, account_holder, balance):\n",
        "        self._account_holder = account_holder  # Protected attribute\n",
        "        self.__balance = balance  # Private attribute\n",
        "\n",
        "    # Public method to get balance\n",
        "    def get_balance(self):\n",
        "        return self.__balance\n",
        "\n",
        "    # Public method to deposit money\n",
        "    def deposit(self, amount):\n",
        "        if amount > 0:\n",
        "            self.__balance += amount\n",
        "\n",
        "    # Public method to withdraw money\n",
        "    def withdraw(self, amount):\n",
        "        if amount > 0 and amount <= self.__balance:\n",
        "            self.__balance -= amount\n",
        "\n",
        "# Creating an instance of the BankAccount class\n",
        "account = BankAccount(\"John Doe\", 1000)\n",
        "\n",
        "# Accessing protected and private attributes\n",
        "print(account._account_holder)  # Output: John Doe\n",
        "print(account.get_balance())    # Output: 1000\n",
        "\n",
        "# Modifying private attribute using public methods\n",
        "account.deposit(500)\n",
        "print(account.get_balance())    # Output: 1500\n",
        "\n",
        "account.withdraw(200)\n",
        "print(account.get_balance())    # Output: 1300\n"
      ],
      "metadata": {
        "colab": {
          "base_uri": "https://localhost:8080/"
        },
        "id": "3vKrsUEakxau",
        "outputId": "105974dc-5a10-4c30-bf79-196cd5c1ea1f"
      },
      "execution_count": 14,
      "outputs": [
        {
          "output_type": "stream",
          "name": "stdout",
          "text": [
            "John Doe\n",
            "1000\n",
            "1500\n",
            "1300\n"
          ]
        }
      ]
    },
    {
      "cell_type": "markdown",
      "source": [
        "*Getter and Setter Methods:*\n",
        "Getter and setter methods are used to control access to the attributes of a class."
      ],
      "metadata": {
        "id": "af2AQQxGk3yV"
      }
    },
    {
      "cell_type": "code",
      "source": [
        "class Student:\n",
        "    def __init__(self, name):\n",
        "        self.__name = name  # Private attribute\n",
        "\n",
        "    # Getter method\n",
        "    def get_name(self):\n",
        "        return self.__name\n",
        "\n",
        "    # Setter method\n",
        "    def set_name(self, new_name):\n",
        "        if len(new_name) > 0:\n",
        "            self.__name = new_name\n",
        "\n",
        "# Creating an instance of the Student class\n",
        "student = Student(\"Alice\")\n",
        "\n",
        "# Accessing private attribute using getter method\n",
        "print(student.get_name())  # Output: Alice\n",
        "\n",
        "# Modifying private attribute using setter method\n",
        "student.set_name(\"Bob\")\n",
        "print(student.get_name())  # Output: Bob\n"
      ],
      "metadata": {
        "colab": {
          "base_uri": "https://localhost:8080/"
        },
        "id": "iAu6VnEjk2Ur",
        "outputId": "e7c6412a-fcf1-4518-d834-694f189030b8"
      },
      "execution_count": 15,
      "outputs": [
        {
          "output_type": "stream",
          "name": "stdout",
          "text": [
            "Alice\n",
            "Bob\n"
          ]
        }
      ]
    },
    {
      "cell_type": "markdown",
      "source": [
        "**Polymorphism in Python:**\n",
        "\n",
        "*Understanding Polymorphism:*\n",
        "Polymorphism allows objects of different types to be treated as objects of a common type. It enables flexibility and code reuse by using a single interface to represent different types of entities.\n",
        "\n",
        "*Function Overloading and Overriding:*\n",
        "   - **Function Overloading:** Defining multiple functions with the same name but different parameter types or a different number of parameters."
      ],
      "metadata": {
        "id": "_OC-8j1zl8jZ"
      }
    },
    {
      "cell_type": "code",
      "source": [
        "def add(a, b):\n",
        "    return a + b\n",
        "\n",
        "def add(a, b, c):\n",
        "    return a + b + c\n"
      ],
      "metadata": {
        "id": "R10Yvhxgk9dI"
      },
      "execution_count": 17,
      "outputs": []
    },
    {
      "cell_type": "markdown",
      "source": [
        "  - **Function Overriding:** Inheritance allows a subclass to provide a specific implementation for a method that is already defined in its superclass."
      ],
      "metadata": {
        "id": "NJEJKNR3mmJQ"
      }
    },
    {
      "cell_type": "code",
      "source": [
        "class Animal:\n",
        "    def speak(self):\n",
        "        print(\"Animal speaks\")\n",
        "\n",
        "class Dog(Animal):\n",
        "    def speak(self):\n",
        "        print(\"Woof!\")\n"
      ],
      "metadata": {
        "id": "wXGXJ091mG5U"
      },
      "execution_count": 18,
      "outputs": []
    },
    {
      "cell_type": "markdown",
      "source": [
        "*Operator Overloading:*\n",
        "   - Allows defining how operators behave for user-defined objects."
      ],
      "metadata": {
        "id": "JhNK-uUEmvrR"
      }
    },
    {
      "cell_type": "code",
      "source": [
        "class Vector:\n",
        "    def __init__(self, x, y):\n",
        "        self.x = x\n",
        "        self.y = y\n",
        "\n",
        "    def __add__(self, other):\n",
        "        return Vector(self.x + other.x, self.y + other.y)\n",
        "\n",
        "v1 = Vector(1, 2)\n",
        "v2 = Vector(3, 4)\n",
        "result = v1 + v2  # Operator '+' is overloaded\n"
      ],
      "metadata": {
        "id": "N7d_CxZ1mrgv"
      },
      "execution_count": 19,
      "outputs": []
    },
    {
      "cell_type": "markdown",
      "source": [
        "**Abstraction in Python:**\n",
        "\n",
        "*Abstraction Concepts:*\n",
        "Abstraction is the process of simplifying complex systems by modeling classes based on essential features, while hiding unnecessary details. It focuses on what an object does rather than how it achieves its functionality.\n",
        "\n",
        "*Abstract Classes and Abstract Methods:*\n",
        "   - **Abstract Class:** A class that cannot be instantiated and serves as a blueprint for other classes. It may contain abstract methods.\n",
        "   - **Abstract Method:** A method declared in an abstract class without providing an implementation. Subclasses must implement abstract methods."
      ],
      "metadata": {
        "id": "Th0Isxwinl3E"
      }
    },
    {
      "cell_type": "code",
      "source": [
        "from abc import ABC, abstractmethod\n",
        "\n",
        "class Shape(ABC):\n",
        "    @abstractmethod\n",
        "    def area(self):\n",
        "        pass\n",
        "\n",
        "class Circle(Shape):\n",
        "    def __init__(self, radius):\n",
        "        self.radius = radius\n",
        "\n",
        "    def area(self):\n",
        "        return 3.14 * self.radius * self.radius\n"
      ],
      "metadata": {
        "id": "lL1AO8xnmy9e"
      },
      "execution_count": 20,
      "outputs": []
    },
    {
      "cell_type": "code",
      "source": [],
      "metadata": {
        "id": "B3MwlX-jnthk"
      },
      "execution_count": null,
      "outputs": []
    },
    {
      "cell_type": "markdown",
      "source": [
        "**Duck Typing in Python:**\n",
        "\n",
        "*Explanation of Duck Typing:*\n",
        "Duck typing is a programming concept that focuses on an object's behavior rather than its type. If an object walks like a duck and quacks like a duck, then it's treated as a duck, regardless of its actual type.\n",
        "\n",
        "*How Python Uses Duck Typing:*\n",
        "Python follows the duck typing philosophy, emphasizing the importance of an object's capabilities over its specific class or type. Functions and methods work with objects based on their behavior rather than their explicit type, promoting flexibility and code reuse."
      ],
      "metadata": {
        "id": "19gFglmEuXyZ"
      }
    },
    {
      "cell_type": "code",
      "source": [
        "class Duck:\n",
        "    def quack(self):\n",
        "        print(\"Quack!\")\n",
        "\n",
        "class RobotDuck:\n",
        "    def quack(self):\n",
        "        print(\"Beep beep!\")\n",
        "\n",
        "def make_duck_quack(duck):\n",
        "    duck.quack()\n",
        "\n",
        "# Both Duck and RobotDuck can be passed to make_duck_quack\n",
        "duck_instance = Duck()\n",
        "robot_duck_instance = RobotDuck()\n",
        "\n",
        "make_duck_quack(duck_instance)        # Output: Quack!\n",
        "make_duck_quack(robot_duck_instance)  # Output: Beep beep!\n"
      ],
      "metadata": {
        "colab": {
          "base_uri": "https://localhost:8080/"
        },
        "id": "x4Gu6-oMuYSV",
        "outputId": "f2215e7a-6082-4aaa-b030-cabf00694c37"
      },
      "execution_count": 21,
      "outputs": [
        {
          "output_type": "stream",
          "name": "stdout",
          "text": [
            "Quack!\n",
            "Beep beep!\n"
          ]
        }
      ]
    },
    {
      "cell_type": "markdown",
      "source": [
        "\n",
        "Composition in Python refers to a design principle where a class includes one or more instances of other classes (or types) as attributes. This allows for the creation of complex objects by combining simpler objects, promoting code reuse and modularity. Composition is an alternative to inheritance for achieving code reuse."
      ],
      "metadata": {
        "id": "-Ka2vtNb13i3"
      }
    },
    {
      "cell_type": "code",
      "source": [
        "class Engine:\n",
        "    def start(self):\n",
        "        print(\"Engine started\")\n",
        "\n",
        "class Car:\n",
        "    def __init__(self):\n",
        "        self.engine = Engine()\n",
        "\n",
        "    def start(self):\n",
        "        print(\"Car starting...\")\n",
        "        self.engine.start()\n",
        "\n",
        "# Creating an instance of the Car class\n",
        "my_car = Car()\n",
        "\n",
        "# Using composition to start the car, which internally starts the engine\n",
        "my_car.start()\n"
      ],
      "metadata": {
        "colab": {
          "base_uri": "https://localhost:8080/"
        },
        "id": "3RQQIekI12SO",
        "outputId": "e17c6622-48d3-4d49-f596-cc1bcc52c4ca"
      },
      "execution_count": 22,
      "outputs": [
        {
          "output_type": "stream",
          "name": "stdout",
          "text": [
            "Car starting...\n",
            "Engine started\n"
          ]
        }
      ]
    },
    {
      "cell_type": "code",
      "source": [],
      "metadata": {
        "id": "X3fd7KK-16e1"
      },
      "execution_count": null,
      "outputs": []
    },
    {
      "cell_type": "markdown",
      "source": [
        "Understanding Mixin Classes:*\n",
        "Mixin classes are a design pattern in Python where a class provides a specific set of functionalities that can be easily added to other classes. They promote code reuse by allowing multiple classes to inherit behavior from a mixin without relying on a strict hierarchical structure."
      ],
      "metadata": {
        "id": "zXPiGO__2wph"
      }
    },
    {
      "cell_type": "code",
      "source": [
        "# Mixin class providing logging functionality\n",
        "class LoggingMixin:\n",
        "    def log_info(self, message):\n",
        "        print(f\"INFO: {message}\")\n",
        "\n",
        "# Example class using the LoggingMixin\n",
        "class User:\n",
        "    def __init__(self, username):\n",
        "        self.username = username\n",
        "\n",
        "# Incorporating the mixin into the example class\n",
        "class LoggedUser(LoggingMixin, User):\n",
        "    def __init__(self, username):\n",
        "        super().__init__(username)\n",
        "\n",
        "# Creating an instance and using the added functionality\n",
        "user_instance = LoggedUser(\"JohnDoe\")\n",
        "user_instance.log_info(\"User logged in\")  # Output: INFO: User logged in\n"
      ],
      "metadata": {
        "colab": {
          "base_uri": "https://localhost:8080/"
        },
        "id": "ju7YzvJp2xFo",
        "outputId": "ba3ee326-b529-4b80-ba82-efc12288ff01"
      },
      "execution_count": 23,
      "outputs": [
        {
          "output_type": "stream",
          "name": "stdout",
          "text": [
            "INFO: User logged in\n"
          ]
        }
      ]
    },
    {
      "cell_type": "code",
      "source": [],
      "metadata": {
        "id": "kH3BDPBY21Cl"
      },
      "execution_count": null,
      "outputs": []
    }
  ]
}