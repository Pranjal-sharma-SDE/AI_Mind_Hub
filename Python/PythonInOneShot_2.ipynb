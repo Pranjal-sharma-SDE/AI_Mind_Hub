{
  "nbformat": 4,
  "nbformat_minor": 0,
  "metadata": {
    "colab": {
      "provenance": []
    },
    "kernelspec": {
      "name": "python3",
      "display_name": "Python 3"
    },
    "language_info": {
      "name": "python"
    }
  },
  "cells": [
    {
      "cell_type": "markdown",
      "source": [
        "# Operations on List"
      ],
      "metadata": {
        "id": "2A9KRnDYHHOC"
      }
    },
    {
      "cell_type": "markdown",
      "source": [
        "## Top Operations on list\n",
        "<ol>\n",
        "<li> Slicing</li>\n",
        "<li> Accessing Elements</li>\n",
        "<li> Appending and Extending</li>\n",
        "<li> Inserting and Deleting Elements</li>\n",
        "<li> Sorting and Reversing:</li>\n",
        "<li>List Comprehensions</li>\n",
        "<li> Finding Length</li>\n",
        "<li> Checking Membership</li>\n",
        "<li> Loop</li>\n",
        "</ol>"
      ],
      "metadata": {
        "id": "EQxQDQSSHspQ"
      }
    },
    {
      "cell_type": "code",
      "source": [
        "## Asinging a list\n",
        "\n",
        "numbers= [0,1,2,3,4,5,6,7,8,9]\n",
        "\n",
        "# Slicing\n",
        "\n",
        "# Get the first 5 items\n",
        "print(numbers[:5])  # Output: [0, 1, 2, 3, 4]\n",
        "\n",
        "# Get the items from index 5 to the end\n",
        "print(numbers[5:])  # Output: [5, 6, 7, 8, 9]\n",
        "\n",
        "# Get the last 3 items\n",
        "print(numbers[-3:])  # Output: [7, 8, 9]\n",
        "\n",
        "# Get the items from index 2 to index 5 (exclusive)\n",
        "print(numbers[2:5])  # Output: [2, 3, 4]\n",
        "\n",
        "# Get every second item in the range from index 1 to index 6\n",
        "print(numbers[1:6:2])  # Output: [1, 3, 5]\n",
        "\n",
        "# Reverse the list\n",
        "print(numbers[::-1])  # Output: [9, 8, 7, 6, 5, 4, 3, 2, 1, 0]\n",
        "\n",
        "# Get every second item in the reversed list\n",
        "print(numbers[::-2])  # Output: [9, 7, 5, 3, 1]\n",
        "\n",
        "# Get a sublist in reverse order (e.g., items from index 2 to index 6)\n",
        "print(numbers[6:1:-1])  # Output: [6, 5, 4, 3, 2]\n",
        "\n",
        "# Slicing with negative step, starting from end\n",
        "print(numbers[8:2:-2])  # Output: [8, 6, 4]\n",
        "\n",
        "# Example List\n",
        "fruits = ['apple', 'banana', 'cherry', 'apple', 'elderberry']\n",
        "\n",
        "# Change an item by index\n",
        "print(\"Before changing item by index: \", fruits)\n",
        "fruits[0] = 'kiwi'\n",
        "print(\"After changing item by index: \", fruits)  # Output: ['kiwi', 'banana', 'cherry', 'apple', 'elderberry']\n",
        "\n",
        "# Change multiple items by slicing\n",
        "print(\"\\nBefore changing items by slicing: \", fruits)\n",
        "fruits[1:3] = ['blackcurrant', 'cantaloupe']\n",
        "print(\"After changing items by slicing: \", fruits)  # Output: ['kiwi', 'blackcurrant', 'cantaloupe', 'apple', 'elderberry']\n",
        "\n",
        "# Change items based on condition\n",
        "print(\"\\nBefore changing items based on condition: \", fruits)\n",
        "fruits = ['kiwi' if fruit == 'apple' else fruit for fruit in fruits]\n",
        "print(\"After changing items based on condition: \", fruits)  # Output: ['kiwi', 'blackcurrant', 'cantaloupe', 'kiwi', 'elderberry']\n",
        "\n",
        "# Use list method to replace\n",
        "print(\"\\nBefore using list method to replace: \", fruits)\n",
        "fruits = ['apple', 'banana', 'cherry']\n",
        "fruits.insert(1, 'kiwi')  # Insert 'kiwi' at index 1\n",
        "fruits.pop(2)  # Remove the item at index 2 ('banana')\n",
        "print(\"After using list method to replace: \", fruits)  # Output: ['apple', 'kiwi', 'cherry']\n",
        "\n",
        "# Example List\n",
        "fruits = ['apple', 'banana', 'cherry']\n",
        "\n",
        "# Adding an item to the end of the list using append()\n",
        "print(\"Before append: \", fruits)\n",
        "fruits.append('dragonfruit')\n",
        "print(\"After append: \", fruits)  # Output: ['apple', 'banana', 'cherry', 'dragonfruit']\n",
        "\n",
        "# Adding an item at a specific position using insert()\n",
        "print(\"\\nBefore insert: \", fruits)\n",
        "fruits.insert(1, 'kiwi')\n",
        "print(\"After insert: \", fruits)  # Output: ['apple', 'kiwi', 'banana', 'cherry', 'dragonfruit']\n",
        "\n",
        "# Adding multiple items to the end of the list using extend()\n",
        "print(\"\\nBefore extend: \", fruits)\n",
        "fruits.extend(['mango', 'nectarine'])\n",
        "print(\"After extend: \", fruits)  # Output: ['apple', 'kiwi', 'banana', 'cherry', 'dragonfruit', 'mango', 'nectarine']\n",
        "\n",
        "# Adding multiple items at a specific position by slicing\n",
        "print(\"\\nBefore slicing: \", fruits)\n",
        "fruits[2:2] = ['blackcurrant', 'cantaloupe']\n",
        "print(\"After slicing: \", fruits)  # Output: ['apple', 'kiwi', 'blackcurrant', 'cantaloupe', 'banana', 'cherry', 'dragonfruit', 'mango', 'nectarine']\n",
        "\n",
        "# Adding items from another list using the \"+\" operator\n",
        "print(\"\\nBefore adding another list: \", fruits)\n",
        "other_fruits = ['orange', 'papaya']\n",
        "fruits = fruits + other_fruits\n",
        "print(\"After adding another list: \", fruits)  # Output: ['apple', 'kiwi', 'blackcurrant', 'cantaloupe', 'banana', 'cherry', 'dragonfruit', 'mango', 'nectarine', 'orange', 'papaya']\n",
        "\n",
        "# Example List\n",
        "fruits = ['apple', 'kiwi', 'blackcurrant', 'cantaloupe', 'kiwi', 'elderberry']\n",
        "\n",
        "# Removing an item by index using pop()\n",
        "print(\"Before pop: \", fruits)\n",
        "removed = fruits.pop(1)\n",
        "print(f\"After pop: {fruits}, removed item: {removed}\")  # Output: ['apple', 'blackcurrant', 'cantaloupe', 'kiwi', 'elderberry'], removed item: kiwi\n",
        "\n",
        "# Removing an item by value using remove()\n",
        "print(\"\\nBefore remove: \", fruits)\n",
        "fruits.remove('blackcurrant')\n",
        "print(\"After remove: \", fruits)  # Output: ['apple', 'cantaloupe', 'kiwi', 'elderberry']\n",
        "\n",
        "# Removing multiple items by slicing\n",
        "print(\"\\nBefore slicing: \", fruits)\n",
        "del fruits[1:3]\n",
        "print(\"After slicing: \", fruits)  # Output: ['apple', 'elderberry']\n",
        "\n",
        "# Removing all items using clear()\n",
        "print(\"\\nBefore clear: \", fruits)\n",
        "fruits.clear()\n",
        "print(\"After clear: \", fruits)  # Output: []\n",
        "\n",
        "# Example List\n",
        "fruits = ['apple', 'kiwi', 'blackcurrant', 'cantaloupe', 'kiwi', 'elderberry']\n",
        "\n",
        "# Looping through a list using a for loop\n",
        "print(\"Looping through list using a for loop:\")\n",
        "for fruit in fruits:\n",
        "    print(fruit)\n",
        "\n",
        "# Looping through a list by index using a for loop and range()\n",
        "print(\"\\nLooping through list by index using a for loop and range():\")\n",
        "for i in range(len(fruits)):\n",
        "    print(f\"Item at index {i} is {fruits[i]}\")\n",
        "\n",
        "# Looping through a list and creating a new list (list comprehension)\n",
        "print(\"\\nLooping through a list and creating a new list (list comprehension):\")\n",
        "capitalized_fruits = [fruit.upper() for fruit in fruits]\n",
        "print(capitalized_fruits)  # Output: ['APPLE', 'KIWI', 'BLACKCURRANT', 'CANTALOUPE', 'KIWI', 'ELDERBERRY']\n",
        "\n",
        "# Looping through a list using enumerate() to get both the index and the value\n",
        "print(\"\\nLooping through a list using enumerate() to get both the index and the value:\")\n",
        "for i, fruit in enumerate(fruits):\n",
        "    print(f\"Item at index {i} is {fruit}\")\n",
        "\n",
        "# Looping through a list using a while loop\n",
        "print(\"\\nLooping through a list using a while loop:\")\n",
        "i = 0\n",
        "while i < len(fruits):\n",
        "    print(fruits[i])\n",
        "    i += 1\n",
        "\n",
        "\n",
        "# Original list\n",
        "fruits = ['grapes', 'apple', 'banana', 'cherry', 'mangoes']\n",
        "print(\"Original list: \", fruits)\n",
        "\n",
        "# List Comprehension\n",
        "lengths = [len(fruit) for fruit in fruits]\n",
        "print(\"\\nList comprehension (lengths): \", lengths)  # Output: [6, 5, 6, 6, 7]\n",
        "\n",
        "# Sort Lists\n",
        "fruits.sort()\n",
        "print(\"\\nSorted list (ascending): \", fruits)  # Output: ['apple', 'banana', 'cherry', 'grapes', 'mangoes']\n",
        "\n",
        "fruits.sort(reverse=True)\n",
        "print(\"Sorted list (descending): \", fruits)  # Output: ['mangoes', 'grapes', 'cherry', 'banana', 'apple']\n",
        "\n",
        "# Copy Lists\n",
        "fruits_copy = fruits.copy()\n",
        "print(\"\\nCopied list: \", fruits_copy)  # Output: ['mangoes', 'grapes', 'cherry', 'banana', 'apple']\n",
        "\n",
        "# Join Lists\n",
        "fruits_extra = ['elderberry', 'fig', 'grapefruit']\n",
        "joined_list = fruits + fruits_extra\n",
        "print(\"\\nJoined list: \", joined_list)  # Output: ['mangoes', 'grapes', 'cherry', 'banana', 'apple', 'elderberry', 'fig', 'grapefruit']\n",
        "\n",
        "# List Methods\n",
        "print(\"\\nList methods:\")\n",
        "fruits.append('honeydew')\n",
        "print(\"After append: \", fruits)  # Output: ['mangoes', 'grapes', 'cherry', 'banana', 'apple', 'honeydew']\n",
        "\n",
        "fruits.remove('banana')\n",
        "print(\"After remove: \", fruits)  # Output: ['mangoes', 'grapes', 'cherry', 'apple', 'honeydew']\n",
        "\n",
        "index = fruits.index('cherry')\n",
        "print(\"Index of 'cherry': \", index)  # Output: 2\n",
        "\n",
        "count = fruits.count('apple')\n",
        "print(\"Count of 'apple': \", count)  # Output: 1\n",
        "\n",
        "fruits.pop(2)\n",
        "print(\"After pop at index 2: \", fruits)  # Output: ['mangoes', 'grapes', 'apple', 'honeydew']\n",
        "\n",
        "fruits.clear()\n",
        "print(\"After clear: \", fruits)  # Output: []\n",
        "\n",
        "\n"
      ],
      "metadata": {
        "colab": {
          "base_uri": "https://localhost:8080/"
        },
        "id": "A9rrgKfSxDCG",
        "outputId": "6d7e9d7c-5541-415c-c60b-dd6172a84993"
      },
      "execution_count": 1,
      "outputs": [
        {
          "output_type": "stream",
          "name": "stdout",
          "text": [
            "[0, 1, 2, 3, 4]\n",
            "[5, 6, 7, 8, 9]\n",
            "[7, 8, 9]\n",
            "[2, 3, 4]\n",
            "[1, 3, 5]\n",
            "[9, 8, 7, 6, 5, 4, 3, 2, 1, 0]\n",
            "[9, 7, 5, 3, 1]\n",
            "[6, 5, 4, 3, 2]\n",
            "[8, 6, 4]\n",
            "Before changing item by index:  ['apple', 'banana', 'cherry', 'apple', 'elderberry']\n",
            "After changing item by index:  ['kiwi', 'banana', 'cherry', 'apple', 'elderberry']\n",
            "\n",
            "Before changing items by slicing:  ['kiwi', 'banana', 'cherry', 'apple', 'elderberry']\n",
            "After changing items by slicing:  ['kiwi', 'blackcurrant', 'cantaloupe', 'apple', 'elderberry']\n",
            "\n",
            "Before changing items based on condition:  ['kiwi', 'blackcurrant', 'cantaloupe', 'apple', 'elderberry']\n",
            "After changing items based on condition:  ['kiwi', 'blackcurrant', 'cantaloupe', 'kiwi', 'elderberry']\n",
            "\n",
            "Before using list method to replace:  ['kiwi', 'blackcurrant', 'cantaloupe', 'kiwi', 'elderberry']\n",
            "After using list method to replace:  ['apple', 'kiwi', 'cherry']\n",
            "Before append:  ['apple', 'banana', 'cherry']\n",
            "After append:  ['apple', 'banana', 'cherry', 'dragonfruit']\n",
            "\n",
            "Before insert:  ['apple', 'banana', 'cherry', 'dragonfruit']\n",
            "After insert:  ['apple', 'kiwi', 'banana', 'cherry', 'dragonfruit']\n",
            "\n",
            "Before extend:  ['apple', 'kiwi', 'banana', 'cherry', 'dragonfruit']\n",
            "After extend:  ['apple', 'kiwi', 'banana', 'cherry', 'dragonfruit', 'mango', 'nectarine']\n",
            "\n",
            "Before slicing:  ['apple', 'kiwi', 'banana', 'cherry', 'dragonfruit', 'mango', 'nectarine']\n",
            "After slicing:  ['apple', 'kiwi', 'blackcurrant', 'cantaloupe', 'banana', 'cherry', 'dragonfruit', 'mango', 'nectarine']\n",
            "\n",
            "Before adding another list:  ['apple', 'kiwi', 'blackcurrant', 'cantaloupe', 'banana', 'cherry', 'dragonfruit', 'mango', 'nectarine']\n",
            "After adding another list:  ['apple', 'kiwi', 'blackcurrant', 'cantaloupe', 'banana', 'cherry', 'dragonfruit', 'mango', 'nectarine', 'orange', 'papaya']\n",
            "Before pop:  ['apple', 'kiwi', 'blackcurrant', 'cantaloupe', 'kiwi', 'elderberry']\n",
            "After pop: ['apple', 'blackcurrant', 'cantaloupe', 'kiwi', 'elderberry'], removed item: kiwi\n",
            "\n",
            "Before remove:  ['apple', 'blackcurrant', 'cantaloupe', 'kiwi', 'elderberry']\n",
            "After remove:  ['apple', 'cantaloupe', 'kiwi', 'elderberry']\n",
            "\n",
            "Before slicing:  ['apple', 'cantaloupe', 'kiwi', 'elderberry']\n",
            "After slicing:  ['apple', 'elderberry']\n",
            "\n",
            "Before clear:  ['apple', 'elderberry']\n",
            "After clear:  []\n",
            "Looping through list using a for loop:\n",
            "apple\n",
            "kiwi\n",
            "blackcurrant\n",
            "cantaloupe\n",
            "kiwi\n",
            "elderberry\n",
            "\n",
            "Looping through list by index using a for loop and range():\n",
            "Item at index 0 is apple\n",
            "Item at index 1 is kiwi\n",
            "Item at index 2 is blackcurrant\n",
            "Item at index 3 is cantaloupe\n",
            "Item at index 4 is kiwi\n",
            "Item at index 5 is elderberry\n",
            "\n",
            "Looping through a list and creating a new list (list comprehension):\n",
            "['APPLE', 'KIWI', 'BLACKCURRANT', 'CANTALOUPE', 'KIWI', 'ELDERBERRY']\n",
            "\n",
            "Looping through a list using enumerate() to get both the index and the value:\n",
            "Item at index 0 is apple\n",
            "Item at index 1 is kiwi\n",
            "Item at index 2 is blackcurrant\n",
            "Item at index 3 is cantaloupe\n",
            "Item at index 4 is kiwi\n",
            "Item at index 5 is elderberry\n",
            "\n",
            "Looping through a list using a while loop:\n",
            "apple\n",
            "kiwi\n",
            "blackcurrant\n",
            "cantaloupe\n",
            "kiwi\n",
            "elderberry\n",
            "Original list:  ['grapes', 'apple', 'banana', 'cherry', 'mangoes']\n",
            "\n",
            "List comprehension (lengths):  [6, 5, 6, 6, 7]\n",
            "\n",
            "Sorted list (ascending):  ['apple', 'banana', 'cherry', 'grapes', 'mangoes']\n",
            "Sorted list (descending):  ['mangoes', 'grapes', 'cherry', 'banana', 'apple']\n",
            "\n",
            "Copied list:  ['mangoes', 'grapes', 'cherry', 'banana', 'apple']\n",
            "\n",
            "Joined list:  ['mangoes', 'grapes', 'cherry', 'banana', 'apple', 'elderberry', 'fig', 'grapefruit']\n",
            "\n",
            "List methods:\n",
            "After append:  ['mangoes', 'grapes', 'cherry', 'banana', 'apple', 'honeydew']\n",
            "After remove:  ['mangoes', 'grapes', 'cherry', 'apple', 'honeydew']\n",
            "Index of 'cherry':  2\n",
            "Count of 'apple':  1\n",
            "After pop at index 2:  ['mangoes', 'grapes', 'apple', 'honeydew']\n",
            "After clear:  []\n"
          ]
        }
      ]
    },
    {
      "cell_type": "markdown",
      "source": [
        "## Operation for Tuples"
      ],
      "metadata": {
        "id": "zl9YseZ4Lwbz"
      }
    },
    {
      "cell_type": "markdown",
      "source": [
        "## Top Operations on Tuples\n",
        "<ol>\n",
        "<li> Accessing Elements</li>\n",
        "<li> Slicing</li>\n",
        "<li> Concatenation</li>\n",
        "<li> Repeating Elements</li>\n",
        "<li> Tuple Unpacking</li>\n",
        "<li> Length and Membership</li>\n",
        "<li> Converting a List to a Tuple</li>\n",
        "<li> Immutable Nature</li>\n",
        "</ol>"
      ],
      "metadata": {
        "id": "G_lNAckFMCCh"
      }
    },
    {
      "cell_type": "code",
      "source": [
        "# Access Tuples\n",
        "fruits_tuple = ('grapes', 'apple', 'banana', 'cherry', 'mangoes')\n",
        "print(\"Original tuple: \", fruits_tuple)\n",
        "\n",
        "print(\"\\nAccessing elements in tuple:\")\n",
        "print(\"First fruit: \", fruits_tuple[0])  # Output: 'grapes'\n",
        "print(\"Last fruit: \", fruits_tuple[-1])  # Output: 'mangoes'\n",
        "\n",
        "# Update Tuples\n",
        "# Tuples are immutable, so we can't directly change an element of a tuple.\n",
        "# But we can concatenate tuples or convert them to lists, modify them, and then convert back to tuples.\n",
        "print(\"\\nUpdating tuples:\")\n",
        "list_fruits = list(fruits_tuple)\n",
        "list_fruits[1] = 'kiwi'  # Changing 'apple' to 'kiwi'\n",
        "fruits_tuple = tuple(list_fruits)\n",
        "print(\"After updating tuple: \", fruits_tuple)  # Output: ('grapes', 'kiwi', 'banana', 'cherry', 'mangoes')\n",
        "\n",
        "# Unpack Tuples\n",
        "print(\"\\nUnpacking tuples:\")\n",
        "fruit1, fruit2, fruit3, fruit4, fruit5 = fruits_tuple\n",
        "print(\"Fruit1: \", fruit1)  # Output: 'grapes'\n",
        "print(\"Fruit2: \", fruit2)  # Output: 'kiwi'\n",
        "print(\"Fruit3: \", fruit3)  # Output: 'banana'\n",
        "print(\"Fruit4: \", fruit4)  # Output: 'cherry'\n",
        "print(\"Fruit5: \", fruit5)  # Output: 'mangoes'\n",
        "\n",
        "# Original Tuple\n",
        "fruits_tuple = ('grapes', 'kiwi', 'banana', 'cherry', 'mangoes')\n",
        "print(\"Original tuple: \", fruits_tuple)\n",
        "\n",
        "# Loop Tuples\n",
        "print(\"\\nLooping through tuple:\")\n",
        "for fruit in fruits_tuple:\n",
        "    print(fruit)\n",
        "\n",
        "# Join Tuples\n",
        "print(\"\\nJoining tuples:\")\n",
        "more_fruits = ('orange', 'peach')\n",
        "joined_tuple = fruits_tuple + more_fruits\n",
        "print(\"Joined tuple: \", joined_tuple)  # Output: ('grapes', 'kiwi', 'banana', 'cherry', 'mangoes', 'orange', 'peach')\n",
        "\n",
        "# Tuple Methods\n",
        "print(\"\\nTuple methods:\")\n",
        "count = fruits_tuple.count('kiwi')\n",
        "print(\"Count of 'kiwi': \", count)  # Output: 1\n",
        "\n",
        "index = fruits_tuple.index('cherry')\n",
        "print(\"Index of 'cherry': \", index)  # Output: 3\n"
      ],
      "metadata": {
        "colab": {
          "base_uri": "https://localhost:8080/"
        },
        "id": "yPDBwArLLzre",
        "outputId": "cdca6902-ecaa-46f3-aae4-b1f61f6ba7fb"
      },
      "execution_count": 2,
      "outputs": [
        {
          "output_type": "stream",
          "name": "stdout",
          "text": [
            "Original tuple:  ('grapes', 'apple', 'banana', 'cherry', 'mangoes')\n",
            "\n",
            "Accessing elements in tuple:\n",
            "First fruit:  grapes\n",
            "Last fruit:  mangoes\n",
            "\n",
            "Updating tuples:\n",
            "After updating tuple:  ('grapes', 'kiwi', 'banana', 'cherry', 'mangoes')\n",
            "\n",
            "Unpacking tuples:\n",
            "Fruit1:  grapes\n",
            "Fruit2:  kiwi\n",
            "Fruit3:  banana\n",
            "Fruit4:  cherry\n",
            "Fruit5:  mangoes\n",
            "Original tuple:  ('grapes', 'kiwi', 'banana', 'cherry', 'mangoes')\n",
            "\n",
            "Looping through tuple:\n",
            "grapes\n",
            "kiwi\n",
            "banana\n",
            "cherry\n",
            "mangoes\n",
            "\n",
            "Joining tuples:\n",
            "Joined tuple:  ('grapes', 'kiwi', 'banana', 'cherry', 'mangoes', 'orange', 'peach')\n",
            "\n",
            "Tuple methods:\n",
            "Count of 'kiwi':  1\n",
            "Index of 'cherry':  3\n"
          ]
        }
      ]
    },
    {
      "cell_type": "markdown",
      "source": [
        "# Top Operations on Dictionaries\n",
        "<ol>\n",
        "<li> Creating a Dictionary</li>\n",
        "<li> Accessing Values</li>\n",
        "<li> Modifying Values</li>\n",
        "<li> Adding New Key-Value Pairs</li>\n",
        "<li> Deleting Key-Value Pairs</li>\n",
        "<li> Checking if Key Exists</li>\n",
        "<li> Getting Keys and Values</li>\n",
        "<li> Dictionary Comprehensions</li>\n",
        "<li> Checking Membership (Key)</li>\n",
        "<li> Getting a Default Value with `get()`</li>\n",
        "</ol>"
      ],
      "metadata": {
        "id": "9AKkmNxPM9r4"
      }
    },
    {
      "cell_type": "code",
      "execution_count": 3,
      "metadata": {
        "colab": {
          "base_uri": "https://localhost:8080/"
        },
        "id": "yIuqEeV3wFsc",
        "outputId": "faa6e311-79fe-4a36-b10f-09cd7d0289b5"
      },
      "outputs": [
        {
          "output_type": "stream",
          "name": "stdout",
          "text": [
            "Original dictionary:  {'grapes': 5, 'kiwi': 2, 'banana': 6, 'cherry': 8, 'mangoes': 7}\n",
            "\n",
            "Accessing dictionary items:\n",
            "Value of 'banana':  6\n",
            "\n",
            "Changing dictionary items:\n",
            "Updated dictionary:  {'grapes': 5, 'kiwi': 2, 'banana': 10, 'cherry': 8, 'mangoes': 7}\n",
            "\n",
            "Adding items to dictionary:\n",
            "Updated dictionary:  {'grapes': 5, 'kiwi': 2, 'banana': 10, 'cherry': 8, 'mangoes': 7, 'apple': 4}\n",
            "\n",
            "Removing items from dictionary:\n",
            "Updated dictionary:  {'grapes': 5, 'banana': 10, 'cherry': 8, 'mangoes': 7, 'apple': 4}\n",
            "\n",
            "Looping through a dictionary:\n",
            "grapes 5\n",
            "banana 10\n",
            "cherry 8\n",
            "mangoes 7\n",
            "apple 4\n",
            "\n",
            "Dictionary comprehension:\n",
            "New dictionary (prices):  {'grapes': 10, 'banana': 20, 'cherry': 16, 'mangoes': 14, 'apple': 8}\n",
            "\n",
            "Copying a dictionary:\n",
            "Copied dictionary:  {'grapes': 5, 'banana': 10, 'cherry': 8, 'mangoes': 7, 'apple': 4}\n",
            "\n",
            "Merging dictionaries:\n",
            "Updated dictionary:  {'grapes': 5, 'banana': 10, 'cherry': 8, 'mangoes': 7, 'apple': 4, 'peach': 3, 'orange': 4}\n",
            "\n",
            "Dictionary methods:\n",
            "Keys:  dict_keys(['grapes', 'banana', 'cherry', 'mangoes', 'apple', 'peach', 'orange'])\n",
            "Values:  dict_values([5, 10, 8, 7, 4, 3, 4])\n",
            "Items:  dict_items([('grapes', 5), ('banana', 10), ('cherry', 8), ('mangoes', 7), ('apple', 4), ('peach', 3), ('orange', 4)])\n"
          ]
        }
      ],
      "source": [
        "# Original dictionary\n",
        "fruits_dict = {'grapes': 5, 'kiwi': 2, 'banana': 6, 'cherry': 8, 'mangoes': 7}\n",
        "print(\"Original dictionary: \", fruits_dict)\n",
        "\n",
        "# Accessing dictionary items\n",
        "print(\"\\nAccessing dictionary items:\")\n",
        "print(\"Value of 'banana': \", fruits_dict['banana'])  # Output: 6\n",
        "\n",
        "# Change dictionary items\n",
        "print(\"\\nChanging dictionary items:\")\n",
        "fruits_dict['banana'] = 10\n",
        "print(\"Updated dictionary: \", fruits_dict)  # Output: {'grapes': 5, 'kiwi': 2, 'banana': 10, 'cherry': 8, 'mangoes': 7}\n",
        "\n",
        "# Adding items to dictionary\n",
        "print(\"\\nAdding items to dictionary:\")\n",
        "fruits_dict['apple'] = 4\n",
        "print(\"Updated dictionary: \", fruits_dict)  # Output: {'grapes': 5, 'kiwi': 2, 'banana': 10, 'cherry': 8, 'mangoes': 7, 'apple': 4}\n",
        "\n",
        "# Removing items from dictionary\n",
        "print(\"\\nRemoving items from dictionary:\")\n",
        "fruits_dict.pop('kiwi')\n",
        "print(\"Updated dictionary: \", fruits_dict)  # Output: {'grapes': 5, 'banana': 10, 'cherry': 8, 'mangoes': 7, 'apple': 4}\n",
        "\n",
        "# Looping through a dictionary\n",
        "print(\"\\nLooping through a dictionary:\")\n",
        "for key, value in fruits_dict.items():\n",
        "    print(key, value)\n",
        "\n",
        "# Dictionary comprehension\n",
        "print(\"\\nDictionary comprehension:\")\n",
        "prices = {key: value * 2 for key, value in fruits_dict.items()}\n",
        "print(\"New dictionary (prices): \", prices)  # Output: {'grapes': 10, 'banana': 20, 'cherry': 16, 'mangoes': 14, 'apple': 8}\n",
        "\n",
        "# Copying a dictionary\n",
        "print(\"\\nCopying a dictionary:\")\n",
        "fruits_copy = fruits_dict.copy()\n",
        "print(\"Copied dictionary: \", fruits_copy)  # Output: {'grapes': 5, 'banana': 10, 'cherry': 8, 'mangoes': 7, 'apple': 4}\n",
        "\n",
        "# Merging dictionaries\n",
        "print(\"\\nMerging dictionaries:\")\n",
        "extra_fruits = {'peach': 3, 'orange': 4}\n",
        "fruits_dict.update(extra_fruits)\n",
        "print(\"Updated dictionary: \", fruits_dict)  # Output: {'grapes': 5, 'banana': 10, 'cherry': 8, 'mangoes': 7, 'apple': 4, 'peach': 3, 'orange': 4}\n",
        "\n",
        "# Dictionary methods\n",
        "print(\"\\nDictionary methods:\")\n",
        "keys = fruits_dict.keys()\n",
        "print(\"Keys: \", keys)  # Output: dict_keys(['grapes', 'banana', 'cherry', 'mangoes', 'apple', 'peach', 'orange'])\n",
        "\n",
        "values = fruits_dict.values()\n",
        "print(\"Values: \", values)  # Output: dict_values([5, 10, 8, 7, 4, 3, 4])\n",
        "\n",
        "items = fruits_dict.items()\n",
        "print(\"Items: \", items)  # Output: dict_items([('grapes', 5), ('banana', 10), ('cherry', 8), ('mangoes', 7), ('apple', 4), ('peach', 3), ('orange', 4)])\n"
      ]
    },
    {
      "cell_type": "markdown",
      "source": [
        "# Top Operations on Sets\n",
        "<ol>\n",
        "<li> Creating a Set</li>\n",
        "<li> Adding Elements</li>\n",
        "<li> Removing Elements</li>\n",
        "<li> Checking Membership</li>\n",
        "<li> Set Operations (Union, Intersection, Difference)</li>\n",
        "<li> Removing Duplicates from a List using Set</li>\n",
        "<li> Set Comprehensions</li>\n",
        "<li> Checking Subset and Superset</li>\n",
        "<li> Finding the Length of a Set</li>\n",
        "<li> Discarding Elements</li>\n",
        "</ol>"
      ],
      "metadata": {
        "id": "JSGOWUnlNrlX"
      }
    },
    {
      "cell_type": "code",
      "source": [
        "# Original set\n",
        "fruits_set = {'grapes', 'kiwi', 'banana', 'cherry', 'mangoes'}\n",
        "print(\"Original set: \", fruits_set)\n",
        "\n",
        "# Access set items\n",
        "# We cannot access individual items in a set directly as sets are unordered,\n",
        "# but we can loop through the set or convert it to a list/tuple and access them.\n",
        "print(\"\\nAccessing set items (as a list):\")\n",
        "fruits_list = list(fruits_set)\n",
        "print(\"First item: \", fruits_list[0])\n",
        "\n",
        "# Add set items\n",
        "print(\"\\nAdding items to set:\")\n",
        "fruits_set.add('apple')\n",
        "print(\"Updated set: \", fruits_set)\n",
        "\n",
        "# Remove set items\n",
        "print(\"\\nRemoving items from set:\")\n",
        "fruits_set.remove('kiwi')\n",
        "print(\"Updated set: \", fruits_set)\n",
        "\n",
        "# Looping through a set\n",
        "print(\"\\nLooping through a set:\")\n",
        "for fruit in fruits_set:\n",
        "    print(fruit)\n",
        "\n",
        "# Set comprehension\n",
        "print(\"\\nSet comprehension:\")\n",
        "lengths = {len(fruit) for fruit in fruits_set}\n",
        "print(\"New set (lengths): \", lengths)\n",
        "\n",
        "# Copying a set\n",
        "print(\"\\nCopying a set:\")\n",
        "fruits_copy = fruits_set.copy()\n",
        "print(\"Copied set: \", fruits_copy)\n",
        "\n",
        "# Join sets\n",
        "print(\"\\nJoining sets:\")\n",
        "more_fruits = {'orange', 'peach'}\n",
        "all_fruits = fruits_set.union(more_fruits)\n",
        "print(\"Joined set: \", all_fruits)\n",
        "\n",
        "# Set methods\n",
        "print(\"\\nSet methods:\")\n",
        "fruits_set.add('pear')\n",
        "print(\"After add: \", fruits_set)\n",
        "fruits_set.remove('apple')\n",
        "print(\"After remove: \", fruits_set)"
      ],
      "metadata": {
        "colab": {
          "base_uri": "https://localhost:8080/"
        },
        "id": "spBdUsALNtNQ",
        "outputId": "b401b70b-c24a-4182-c49b-3d7f5e03fb10"
      },
      "execution_count": 4,
      "outputs": [
        {
          "output_type": "stream",
          "name": "stdout",
          "text": [
            "Original set:  {'banana', 'kiwi', 'cherry', 'mangoes', 'grapes'}\n",
            "\n",
            "Accessing set items (as a list):\n",
            "First item:  banana\n",
            "\n",
            "Adding items to set:\n",
            "Updated set:  {'banana', 'apple', 'kiwi', 'cherry', 'mangoes', 'grapes'}\n",
            "\n",
            "Removing items from set:\n",
            "Updated set:  {'banana', 'apple', 'cherry', 'mangoes', 'grapes'}\n",
            "\n",
            "Looping through a set:\n",
            "banana\n",
            "apple\n",
            "cherry\n",
            "mangoes\n",
            "grapes\n",
            "\n",
            "Set comprehension:\n",
            "New set (lengths):  {5, 6, 7}\n",
            "\n",
            "Copying a set:\n",
            "Copied set:  {'grapes', 'banana', 'apple', 'cherry', 'mangoes'}\n",
            "\n",
            "Joining sets:\n",
            "Joined set:  {'grapes', 'banana', 'apple', 'orange', 'cherry', 'peach', 'mangoes'}\n",
            "\n",
            "Set methods:\n",
            "After add:  {'pear', 'banana', 'apple', 'cherry', 'mangoes', 'grapes'}\n",
            "After remove:  {'pear', 'banana', 'cherry', 'mangoes', 'grapes'}\n"
          ]
        }
      ]
    },
    {
      "cell_type": "markdown",
      "source": [
        "# Functions -\n",
        "## Types of Function -\n",
        "<ul>\n",
        "<li>\n",
        "<strong>Built-in Functions: </strong>\n",
        "Built-in functions are functions that are already defined in Python and come as part of the standard Python library. These functions are ready to use and provide common functionalities that are widely used. Examples of built-in functions include len(), print(), type(), sum(), and many more. These functions are available without the need for additional import statements.\n",
        "</li>\n",
        "<li>\n",
        "<strong> User-Defined Functions:</strong>\n",
        "User-defined functions are functions created by the programmer to perform a specific task. These functions are defined using the def keyword, followed by the function name, parentheses for parameters (if any), and a colon. The function's code block is indented under the function definition.\n",
        "</li>\n",
        "</ul>\n"
      ],
      "metadata": {
        "id": "K6K3uJ-YQmLs"
      }
    },
    {
      "cell_type": "code",
      "source": [
        "def greet():\n",
        "    print(\"Hello, World!\")\n",
        "\n",
        "# Calling the function\n",
        "greet()  # Output: Hello, World!\n",
        "\n",
        "def add_numbers(num1, num2):\n",
        "    return num1 + num2\n",
        "\n",
        "# Calling the function\n",
        "result = add_numbers(4, 5)\n",
        "print(result)  # Output: 9"
      ],
      "metadata": {
        "colab": {
          "base_uri": "https://localhost:8080/"
        },
        "id": "J3QoBbjQNyrL",
        "outputId": "f14c9532-cd08-4284-b181-ce1e6cfc37cd"
      },
      "execution_count": 7,
      "outputs": [
        {
          "output_type": "stream",
          "name": "stdout",
          "text": [
            "Hello, World!\n",
            "9\n"
          ]
        }
      ]
    },
    {
      "cell_type": "markdown",
      "source": [
        "# Lambda Function\n",
        "\n",
        "<p>here are some key points about lambda functions in Python, each point is a one-liner:</p>\n",
        "<ol>\n",
        "<li>Lambda functions are small, anonymous functions defined with the <code>lambda</code> keyword.</li>\n",
        "<li>They can take any number of arguments but can only have one expression.</li>\n",
        "<li>The expression is evaluated and returned when the function is called.</li>\n",
        "<li>Lambda functions do not require a <code>return</code> statement, the expression is implicitly returned.</li>\n",
        "<li>They can be used wherever function objects are required, like inside functions like <code>map()</code>, <code>filter()</code>, and <code>reduce()</code>.</li>\n",
        "<li>You can't include statements like loops, <code>if</code>, or <code>else</code> in lambda functions; only expressions are allowed.</li>\n",
        "<li>Lambda functions are useful for small tasks that are not reused throughout your code.</li>\n",
        "<li>They can be assigned to variables and used like regular functions.</li>\n",
        "</ol>"
      ],
      "metadata": {
        "id": "J-xy1k6hSC81"
      }
    },
    {
      "cell_type": "code",
      "source": [
        "# lambda arguments: expression\n",
        "\n",
        "add = lambda x, y: x + y\n",
        "print(add(5, 3))  # Output: 8\n",
        "\n",
        "# A list of dictionaries is created, where each dictionary represents a product.\n",
        "# Each product has two properties: 'name' and 'price'.\n",
        "\n",
        "products = [\n",
        "    {'name': 'Product1', 'price': 50},\n",
        "    {'name': 'Product2', 'price': 30},\n",
        "    {'name': 'Product3', 'price': 40},\n",
        "    {'name': 'Product4', 'price': 20},\n",
        "]\n",
        "\n",
        "# The products list and a lambda function are passed to the sorted() method.\n",
        "# The sorted() function's key parameter accepts a function as an argument.\n",
        "# This function generates a'sorting key' for each entry in the list.\n",
        "\n",
        "# In this case, the lambda function lambda x: x['price'] takes an argument (a dictionary) and returns the value of its 'price' key.\n",
        "# These pricing values are used by the sorted() method to compare products and determine their rank in the sorted list.\n",
        "\n",
        "sorted_products = sorted(products, key=lambda x: x['price'])\n",
        "\n",
        "for product in sorted_products:\n",
        "    print(product)"
      ],
      "metadata": {
        "colab": {
          "base_uri": "https://localhost:8080/"
        },
        "id": "AH7KNME_Rc_1",
        "outputId": "54e1af2b-d78c-42e4-c980-e8416d18bd4c"
      },
      "execution_count": 9,
      "outputs": [
        {
          "output_type": "stream",
          "name": "stdout",
          "text": [
            "8\n",
            "{'name': 'Product4', 'price': 20}\n",
            "{'name': 'Product2', 'price': 30}\n",
            "{'name': 'Product3', 'price': 40}\n",
            "{'name': 'Product1', 'price': 50}\n"
          ]
        }
      ]
    },
    {
      "cell_type": "markdown",
      "source": [
        "# Recursion\n",
        "\n",
        "<p><strong>Recursion</strong> refers to the programming technique in which a function defines itself by calling itself. Here are a few highlights:</p>\n",
        "<ul>\n",
        "<li>Recursion occurs when a function calls itself while providing a different input for each consecutive call.</li>\n",
        "<li>Base Case: To prevent unbounded recursion, every recursive function should have a base case, which is a condition under which it stops invoking itself.</li>\n",
        "<li>The execution context or state of each recursive call is different. The current values of a function's parameters and variables are placed onto the call stack when it calls itself.</li>\n",
        "<li>Problem-Solving: Recursion is frequently used to solve problems that can be divided into smaller, simpler problems of the same type.</li>\n",
        "<li>Memory: Because recursive functions must retain stack frames for all recursive calls, they consume more memory than iterative versions.</li>\n",
        "<li>Efficiency: Because of the complexity of maintaining the stack, recursive functions can be less efficient and can result in a stack overflow for deep recursion.</li>\n",
        "<li>Readability: Despite potential inefficiencies, recursion can result in easier-to-read and write code for certain issues, such as traversing tree-like data structures, sorting algorithms (such as quicksort and mergesort), solving Tower of Hanoi, Fibonacci series, and so on.</li>\n",
        "<li>Remember that recursion is a tool, and whether or not to utilise it depends on the particular problem you're attempting to solve. Some issues lend themselves nicely to recursive solutions, while others may benefit from an iterative approach.</li>\n",
        "</ul>"
      ],
      "metadata": {
        "id": "ZvuJqnQ6SrHX"
      }
    },
    {
      "cell_type": "code",
      "source": [
        "def my_fibonacci(n):\n",
        "    a, b = 0, 1\n",
        "    for i in range(n):\n",
        "        print(a)\n",
        "        a, b = b, a + b\n",
        "\n",
        "my_fibonacci(7)"
      ],
      "metadata": {
        "colab": {
          "base_uri": "https://localhost:8080/"
        },
        "id": "PjyFAWuhSr2Y",
        "outputId": "9068e9b4-9cb0-4977-fdf2-3fbe96ed6bff"
      },
      "execution_count": 10,
      "outputs": [
        {
          "output_type": "stream",
          "name": "stdout",
          "text": [
            "0\n",
            "1\n",
            "1\n",
            "2\n",
            "3\n",
            "5\n",
            "8\n"
          ]
        }
      ]
    },
    {
      "cell_type": "markdown",
      "source": [
        "# Exception handling\n",
        "\n",
        "<ul>\n",
        "<li>It is a mechanism in programming to handle runtime errors, which are known as exceptions.&nbsp;</li>\n",
        "<li>It's a process where you define a block of code that will be executed if an error occurs when the program is running. This allows the program to continue running (or terminate gracefully) even if an error occurs.</li>\n",
        "<li>Without exception handling, an error occurring in a program would cause the program to immediately stop. This can be very undesirable, especially in production software, as it can lead to a poor user experience or even data loss.</li>\n",
        "<li>In Python, you use&nbsp;<code><strong>try</strong></code>&nbsp;and&nbsp;<code><strong>except</strong></code>&nbsp;blocks. The&nbsp;<code>try</code>&nbsp;block contains the code that might raise an exception, and the&nbsp;<code><strong>except</strong></code>&nbsp;block contains the code that will be executed if an exception is raised.</li>\n",
        "<li>The <strong>else</strong> block allows you run code without errors.</li>\n",
        "<li>The <strong>finally</strong> block executes code regardless of the try-and-except blocks.</li>\n",
        "</ul>"
      ],
      "metadata": {
        "id": "AP6yhMYpTpwM"
      }
    },
    {
      "cell_type": "markdown",
      "source": [
        "<p><strong>Some of the most common types of exceptions are:</strong></p>\n",
        "<ul>\n",
        "<li>\n",
        "<p><strong><code>ZeroDivisionError</code>:</strong> Raised when the second argument of a division or modulo operation is zero.</p>\n",
        "</li>\n",
        "<li>\n",
        "<p><strong><code>TypeError</code>:</strong> Raised when an operation or function is applied to an object of inappropriate type.</p>\n",
        "</li>\n",
        "<li>\n",
        "<p><strong><code>ValueError</code>:</strong> Raised when a built-in operation or function receives an argument that has the right type but an inappropriate value.</p>\n",
        "</li>\n",
        "<li>\n",
        "<p><strong><code>IndexError</code>:</strong> Raised when a sequence subscript is out of range.</p>\n",
        "</li>\n",
        "<li>\n",
        "<p><strong><code>KeyError</code>:</strong> Raised when a dictionary key is not found.</p>\n",
        "</li>\n",
        "<li>\n",
        "<p><strong><code>FileNotFoundError</code>:</strong> Raised when a file or directory is requested but doesn&rsquo;t exist.</p>\n",
        "</li>\n",
        "<li>\n",
        "<p><strong><code>IOError</code>:</strong> Raised when an I/O operation (such as a print statement, the built-in open() function or a method of a file object) fails for an I/O-related reason.</p>\n",
        "</li>\n",
        "<li>\n",
        "<p><strong><code>ImportError</code>:</strong> Raised when an <code>import</code> statement fails to find the module definition or when a <code>from ... import</code> fails to find a name that is to be imported.</p>\n",
        "</li>\n",
        "<li>\n",
        "<p><strong><code>MemoryError</code>:</strong> Raised when an operation runs out of memory.</p>\n",
        "</li>\n",
        "<li>\n",
        "<p><strong><code>OverflowError</code>:</strong> Raised when the result of an arithmetic operation is too large to be expressed by the normal number format.</p>\n",
        "</li>\n",
        "<li>\n",
        "<p><strong><code>AttributeError</code>:</strong> Raised when an attribute reference or assignment fails.</p>\n",
        "</li>\n",
        "<li>\n",
        "<p><strong><code>SyntaxError</code>:</strong> Raised when the parser encounters a syntax error.</p>\n",
        "</li>\n",
        "<li>\n",
        "<p><strong><code>IndentationError</code>:</strong> Raised when there is incorrect indentation.</p>\n",
        "</li>\n",
        "<li>\n",
        "<p><strong><code>NameError</code>:</strong> Raised when a local or global name is not found.</p>\n",
        "</li>\n",
        "</ul>"
      ],
      "metadata": {
        "id": "tafFMO1ATsoL"
      }
    },
    {
      "cell_type": "markdown",
      "source": [
        "<p><strong><span style=\"font-family: monospace;\">Role of Try and Except:</span></strong></p>\n",
        "<ul>\n",
        "<li>\n",
        "<p><strong><code>try</code> block:</strong> The code within the <code>try</code> block contains the statements that may potentially raise an exception. It allows you to specify the section of code that you want to monitor for exceptions.</p>\n",
        "</li>\n",
        "<li>\n",
        "<p><strong><code>except</code> block:</strong> If an exception occurs within the <code>try</code> block, the corresponding <code>except</code> block(s) are executed. The <code>except</code> block allows you to define the actions or code that should be executed when a specific exception is raised. You can have multiple <code>except</code> blocks to handle different types of exceptions.</p>\n",
        "</li>\n",
        "<li>The <strong>else</strong> block allows you run code without errors.</li>\n",
        "<li>The <strong>finally</strong> block executes code regardless of the try-and-except blocks.</li>\n",
        "<li> Use the <strong>raise</strong> keyword to throw (or raise) an exception.</li>\n",
        "</ul>"
      ],
      "metadata": {
        "id": "bCcyNyB7T0Va"
      }
    },
    {
      "cell_type": "code",
      "source": [
        "# Try, Catch, else & Final\n",
        "# try raise an exception bec x is not defined\n",
        "try:\n",
        "  print(x)\n",
        "except:\n",
        "  print(\"Some issue with x\")\n",
        "\n",
        "\"\"\"You can use the \"else\" keyword to specify a block\n",
        "   of code that will be performed if no errors are raised:\"\"\"\n",
        "try:\n",
        "  print(\"Good morning today is 17th June\")\n",
        "except:\n",
        "  print(\"Some issue\")\n",
        "else:\n",
        "  print(\"No issues\")\n",
        "\n",
        "\"\"\"If the \"finally\" block is supplied,\n",
        "   it will be executed whether or not the try block raises an error.\"\"\"\n",
        "\n",
        "try:\n",
        "  x = 2\n",
        "  print(x)\n",
        "except:\n",
        "  print(\"There is no X\")\n",
        "finally:\n",
        "  print(\"The 'try except' executed\")"
      ],
      "metadata": {
        "id": "xpFrw5vkU1jg"
      },
      "execution_count": null,
      "outputs": []
    },
    {
      "cell_type": "markdown",
      "source": [
        "# User-defined Exceptions\n",
        "\n",
        "<p><strong>By deriving a new class</strong> from the default Exception class in Python, we can define our own exception types.</p>"
      ],
      "metadata": {
        "id": "oxjiUNZqVnjh"
      }
    },
    {
      "cell_type": "code",
      "source": [
        "#MyCustomError is derived from the built-in Exception class. You can use this in your code by using the raise statement.\n",
        "class MyCustomError(Exception):\n",
        "    pass\n",
        "\n",
        "raise MyCustomError(\"This is a custom error\")\n",
        "\n"
      ],
      "metadata": {
        "colab": {
          "base_uri": "https://localhost:8080/",
          "height": 219
        },
        "id": "D4ApuPUNTpS1",
        "outputId": "946e6899-db9e-4ac0-e38b-e91dac5322a6"
      },
      "execution_count": 13,
      "outputs": [
        {
          "output_type": "error",
          "ename": "MyCustomError",
          "evalue": "This is a custom error",
          "traceback": [
            "\u001b[0;31m---------------------------------------------------------------------------\u001b[0m",
            "\u001b[0;31mMyCustomError\u001b[0m                             Traceback (most recent call last)",
            "\u001b[0;32m<ipython-input-13-11aa75f1c690>\u001b[0m in \u001b[0;36m<cell line: 5>\u001b[0;34m()\u001b[0m\n\u001b[1;32m      3\u001b[0m     \u001b[0;32mpass\u001b[0m\u001b[0;34m\u001b[0m\u001b[0;34m\u001b[0m\u001b[0m\n\u001b[1;32m      4\u001b[0m \u001b[0;34m\u001b[0m\u001b[0m\n\u001b[0;32m----> 5\u001b[0;31m \u001b[0;32mraise\u001b[0m \u001b[0mMyCustomError\u001b[0m\u001b[0;34m(\u001b[0m\u001b[0;34m\"This is a custom error\"\u001b[0m\u001b[0;34m)\u001b[0m\u001b[0;34m\u001b[0m\u001b[0;34m\u001b[0m\u001b[0m\n\u001b[0m\u001b[1;32m      6\u001b[0m \u001b[0;34m\u001b[0m\u001b[0m\n\u001b[1;32m      7\u001b[0m \u001b[0;31m# define user-defined exceptions\u001b[0m\u001b[0;34m\u001b[0m\u001b[0;34m\u001b[0m\u001b[0m\n",
            "\u001b[0;31mMyCustomError\u001b[0m: This is a custom error"
          ]
        }
      ]
    },
    {
      "cell_type": "code",
      "source": [
        "# define user-defined exceptions\n",
        "class WrongAge(Exception):\n",
        "    \"Raised when the input value is less than 100\"\n",
        "    pass\n",
        "\n",
        "# you need to guess this number\n",
        "n = 18\n",
        "\n",
        "try:\n",
        "    input_num = int(input(\"Enter a age: \"))\n",
        "    if input_num < n:\n",
        "        raise WrongAge # calling your custom exception\n",
        "    else:\n",
        "        print(\"You can work\")\n",
        "except WrongAge:\n",
        "    print(\"Invalid Age: You are not allowed to work\")"
      ],
      "metadata": {
        "colab": {
          "base_uri": "https://localhost:8080/"
        },
        "id": "ad9C3U2MStPB",
        "outputId": "8e857c49-d6c4-45ef-ea55-1fb1286321ff"
      },
      "execution_count": 14,
      "outputs": [
        {
          "output_type": "stream",
          "name": "stdout",
          "text": [
            "Enter a age: 48\n",
            "You can work\n"
          ]
        }
      ]
    },
    {
      "cell_type": "markdown",
      "source": [
        "# Logging\n",
        "\n",
        "<ul>\n",
        "<li><strong>Logging</strong> is a technique for monitoring events that take place when some software is in use.</li>\n",
        "<li>For the creation, operation, and debugging of software, logging is crucial.</li>\n",
        "<li>There are very little odds that you would find the source of the issue if your programme fails and you don't have any logging records.</li>\n",
        "<li>Additionally, it will take a lot of time to identify the cause.&nbsp;</li>\n",
        "</ul>"
      ],
      "metadata": {
        "id": "UhDpJ2x5W2CB"
      }
    },
    {
      "cell_type": "markdown",
      "source": [
        "<ul>\n",
        "<li>Some programmers utilise the idea of&nbsp;<strong>\"Printing\"</strong> the statements to check whether they were correctly performed or if an error had occurred.</li>\n",
        "<li>However, printing is not a smart move. For basic scripts, it might be the answer to your problems, however the printing solution will fall short for complex programmes.</li>\n",
        "<li>A built-in Python package called logging enables publishing status messages to files or other output streams. The file may provide details about which portion of the code is run and any issues that have come up. </li>\n",
        "</ul>\n",
        "<ul>\n",
        "<li>\n",
        "<p>Here are the different log levels in increasing order of severity:</p>\n",
        "<ul>\n",
        "<li>DEBUG: Detailed information, typically of interest only when diagnosing problems.</li>\n",
        "<li>INFO: Confirmation that things are working as expected.</li>\n",
        "<li>WARNING: An indication that something unexpected happened, or may happen in the future (e.g. &lsquo;disk space low&rsquo;). The software is still working as expected.</li>\n",
        "<li>ERROR: More serious problem that prevented the software from performing a function.</li>\n",
        "<li>CRITICAL: A very serious error, indicating that the program itself may be unable to continue running.</li>\n",
        "</ul>\n",
        "</li>\n",
        "</ul>"
      ],
      "metadata": {
        "id": "3upEj7ubW_hn"
      }
    },
    {
      "cell_type": "code",
      "source": [
        "## Basic setup\n",
        "\n",
        "import logging\n",
        "\n",
        "logging.basicConfig(level=logging.CRITICAL)\n",
        "\n",
        "\n",
        "def LetUsCheckSystem(sys):\n",
        "    if sys != 'OK':\n",
        "        logging.critical('System failure: %s', sys)\n",
        "\n",
        "LetUsCheckSystem('You need to handle the issue now')\n"
      ],
      "metadata": {
        "colab": {
          "base_uri": "https://localhost:8080/"
        },
        "id": "Nw7NbFVRWUtA",
        "outputId": "54069ff1-3e5e-4fd0-df91-d5b8ebec6bff"
      },
      "execution_count": 15,
      "outputs": [
        {
          "output_type": "stream",
          "name": "stderr",
          "text": [
            "CRITICAL:root:System failure: You need to handle the issue now\n"
          ]
        }
      ]
    },
    {
      "cell_type": "markdown",
      "source": [
        "## Save to a file"
      ],
      "metadata": {
        "id": "ua4-lAdcX7ps"
      }
    },
    {
      "cell_type": "code",
      "source": [
        "import os\n",
        "import logging\n",
        "\n",
        "dir_path='/content'\n",
        "log_file='log.txt'\n",
        "\n",
        "full_path=os.path.join(dir,log_file)\n",
        "\n",
        "# Check if the directory exists and create it if necessary\n",
        "os.makedirs(dir_path, exist_ok=True)\n",
        "\n",
        "# Set up logging\n",
        "# Get a logger instance (this will fetch the root logger)\n",
        "logger = logging.getLogger()\n",
        "\n",
        "# Set the level of the logger to CRITICAL\n",
        "# This means it will handle events of level CRITICAL and above\n",
        "logger.setLevel(logging.CRITICAL)\n",
        "\n",
        "# Create a FileHandler instance to write logs to a file\n",
        "handler = logging.FileHandler(full_path)\n",
        "\n",
        "# Set the format of the logs using a Formatter\n",
        "# This format includes the log timestamp, log level and log message\n",
        "handler.setFormatter(logging.Formatter('%(asctime)s:%(levelname)s:%(message)s'))\n",
        "\n",
        "# Add the handler to the logger\n",
        "# This connects the logger to the handler so that logs get written to the file\n",
        "logger.addHandler(handler)\n",
        "\n",
        "\n",
        "def LetUsCheckSystem(sys):\n",
        "    if sys != 'OK':\n",
        "        logging.critical('System failure: %s', sys)\n",
        "\n",
        "LetUsCheckSystem('You need to handle the issue now')\n",
        "handler.close()\n",
        "\n"
      ],
      "metadata": {
        "colab": {
          "base_uri": "https://localhost:8080/"
        },
        "id": "SIUAdcT-X9Xr",
        "outputId": "17bdb759-1511-4c98-f401-e9094ecfd75b"
      },
      "execution_count": 17,
      "outputs": [
        {
          "output_type": "stream",
          "name": "stderr",
          "text": [
            "CRITICAL:root:System failure: You need to handle the issue now\n"
          ]
        }
      ]
    },
    {
      "cell_type": "code",
      "source": [],
      "metadata": {
        "id": "BP9zYhKRYYiw"
      },
      "execution_count": null,
      "outputs": []
    }
  ]
}