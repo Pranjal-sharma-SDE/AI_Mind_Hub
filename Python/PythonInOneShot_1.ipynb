{
  "nbformat": 4,
  "nbformat_minor": 0,
  "metadata": {
    "colab": {
      "provenance": []
    },
    "kernelspec": {
      "name": "python3",
      "display_name": "Python 3"
    },
    "language_info": {
      "name": "python"
    }
  },
  "cells": [
    {
      "cell_type": "markdown",
      "source": [
        "Let's make Python learning feel like a party, not a lecture! 🚀🐍\n",
        "The Roadmap for today is -\n",
        "\n",
        "1. **Foundations**\n",
        "    1. Keywords, Identifiers, and Comments\n",
        "       - Understanding the building blocks of Python.\n",
        "    2. Indentation\n",
        "       - Exploring the significance of proper indentation in Python code.\n",
        "    3. Statements and Variables\n",
        "       - Delving into the fundamental elements of scripting.\n",
        "\n",
        "2. **Data Types Mastery**\n",
        "    1. Numeric and Textual Data\n",
        "       - Comprehensive coverage of integers, floats, and strings.\n",
        "    2. Collections\n",
        "       - Introduction to lists, tuples, sets, and dictionaries.\n",
        "\n",
        "3. **Input/Output Operations**\n",
        "    1. Standard Input/Output\n",
        "       - Navigating the standard channels of data.\n",
        "    2. Redirecting Input/Output\n",
        "       - Manipulating data flow within Python scripts.\n",
        "\n",
        "4. **Operational Dynamics**\n",
        "    1. Operators\n",
        "       - Unraveling the functionality of Python operators.\n",
        "    2. Control Flow Structures\n",
        "       - Mastery of if-else, elif, and loops.\n",
        "\n",
        "5. **Advanced Data Handling**\n",
        "    1. List Operations\n",
        "       - Techniques for efficient list manipulation.\n",
        "    2. Tuple and Set Operations\n",
        "       - Understanding the unique attributes of tuples and sets.\n",
        "    3. Dictionary Operations\n",
        "       - Exploring the functionalities of Python dictionaries.\n",
        "\n",
        "6. **Functionality Elegance**\n",
        "    1. User-Defined Functions\n",
        "       - Crafting reusable and modular code.\n",
        "    2. Lambda Functions\n",
        "       - Introduction to concise, anonymous functions.\n",
        "    3. Recursion\n",
        "       - Understanding recursive function implementation.\n",
        "\n",
        "7. **Error Handling and Logging**\n",
        "    1. Exception Handling\n",
        "       - Strategies for identifying and managing errors.\n",
        "    2. User-Defined Exceptions\n",
        "       - Creating custom exception classes.\n",
        "    3. Logging\n",
        "       - Implementing effective logging practices.\n",
        "\n",
        "8. **Object-Oriented Programming (OOP)**\n",
        "    1. Inheritance and Classes\n",
        "       - Grasping the principles of inheritance and class structures.\n",
        "    2. Access Modifiers\n",
        "       - Understanding access control within classes.\n",
        "\n",
        "Let the Python begin! 🎉🐍"
      ],
      "metadata": {
        "id": "21JjiF9ypl9f"
      }
    },
    {
      "cell_type": "markdown",
      "source": [
        "# Keywords in Python"
      ],
      "metadata": {
        "id": "6PpTpV3wpzjW"
      }
    },
    {
      "cell_type": "markdown",
      "source": [
        "<p><strong>Here are the key points related to keywords in Python:</strong></p>\n",
        "<ol>\n",
        "    <li>\n",
        "        <p><strong>Definition</strong>: Keywords in Python are reserved words that cannot be used as ordinary identifiers. They are used to define the syntax and structure of the Python language.</p>\n",
        "    </li>\n",
        "    <li>\n",
        "        <p><strong>Immutability</strong>: Keywords are immutable. This means their meaning and definition can&apos;t be altered.</p>\n",
        "    </li>\n",
        "    <li>\n",
        "        <p><strong>Case Sensitivity</strong>: Keywords are case-sensitive. For example, <code>True</code> is a valid keyword, but <code>true</code> is not.</p>\n",
        "    </li>\n",
        "    <li>\n",
        "        <p><strong>Total Number</strong>: As of Python 3.9, there are 35 keywords.</p>\n",
        "    </li>\n",
        "    <li>\n",
        "        <p><strong>List of Keywords</strong>: The complete list of Python keywords are <code>False</code>, <code>None</code>, <code>True</code>, <code>and</code>, <code>as</code>, <code>assert</code>, <code>async</code>, <code>await</code>, <code>break</code>, <code>class</code>, <code>continue</code>, <code>def</code>, <code>del</code>, <code>elif</code>, <code>else</code>, <code>except</code>, <code>finally</code>, <code>for</code>, <code>from</code>, <code>global</code>, <code>if</code>, <code>import</code>, <code>in</code>, <code>is</code>, <code>lambda</code>, <code>nonlocal</code>, <code>not</code>, <code>or</code>, <code>pass</code>, <code>raise</code>, <code>return</code>, <code>try</code>, <code>while</code>, <code>with</code>, <code>yield</code>.</p>\n",
        "    </li>\n",
        "    <li>\n",
        "        <p><strong>Special Keywords</strong>: <code>async</code> and <code>await</code> are used for handling asynchronous processing, and they became keywords in Python 3.7.</p>\n",
        "    </li>\n",
        "    <li>\n",
        "        <p><strong>Usage</strong>: Each keyword has a specific meaning and usage in Python programming. For instance, <code>def</code> is used for defining functions, <code>if</code> is used for making conditional statements, <code>for</code> and <code>while</code> are used for loops, <code>class</code> is used for defining a class, and so on.</p>\n",
        "    </li>\n",
        "    <li>\n",
        "        <p><strong>Identifying Keywords</strong>: You can get the list of all keywords in Python by using the following code:</p>\n",
        "    </li>\n",
        "</ol>"
      ],
      "metadata": {
        "id": "aQVwxEPJp4Uq"
      }
    },
    {
      "cell_type": "code",
      "execution_count": 1,
      "metadata": {
        "id": "R0B_kcNTeoWJ",
        "colab": {
          "base_uri": "https://localhost:8080/"
        },
        "outputId": "2dfc042f-dc2c-45d0-af25-a0472242c19b"
      },
      "outputs": [
        {
          "output_type": "stream",
          "name": "stdout",
          "text": [
            "['False', 'None', 'True', 'and', 'as', 'assert', 'async', 'await', 'break', 'class', 'continue', 'def', 'del', 'elif', 'else', 'except', 'finally', 'for', 'from', 'global', 'if', 'import', 'in', 'is', 'lambda', 'nonlocal', 'not', 'or', 'pass', 'raise', 'return', 'try', 'while', 'with', 'yield']\n"
          ]
        }
      ],
      "source": [
        "# Import Keywords\n",
        "import keyword\n",
        "\n",
        "# Print the list\n",
        "print(keyword.kwlist)"
      ]
    },
    {
      "cell_type": "markdown",
      "source": [
        "# Identifiers"
      ],
      "metadata": {
        "id": "eZxEcBraqxPP"
      }
    },
    {
      "cell_type": "markdown",
      "source": [
        "<p><strong>Here are the key points related to identifiers in Python:</strong></p>\n",
        "<ol>\n",
        "    <li>\n",
        "        <p><strong>Definition</strong>: An identifier is a name given to entities like class, functions, variables, etc. It helps to differentiate one entity from another.</p>\n",
        "    </li>\n",
        "    <li>\n",
        "        <p><strong>Syntax</strong>: Identifiers can be a combination of letters in lowercase (a to z) or uppercase (A to Z) or digits (0 to 9) or an underscore (_). </p>\n",
        "    </li>\n",
        "    <li>\n",
        "        <p><strong>No digits:</strong> They must start with a letter or the underscore character, but not with a digit.</p>\n",
        "    </li>\n",
        "    <li>\n",
        "        <p><strong>Case-Sensitive</strong>: Identifiers in Python are case-sensitive. For example, <code>myVariable</code> and <code>myvariable</code> are two different identifiers in Python.</p>\n",
        "    </li>\n",
        "    <li>\n",
        "        <p><strong>No Special Characters</strong>: Identifiers cannot have special characters such as <code>!</code>, <code>@</code>, <code>#</code>, <code>$</code>, <code>%</code>, etc.</p>\n",
        "    </li>\n",
        "    <li>\n",
        "        <p><strong>Reserved Words</strong>: Python keywords cannot be used as identifiers. Words like <code>for</code>, <code>while</code>, <code>break</code>, <code>continue</code>, <code>in</code>, <code>elif</code>, <code>else</code>, <code>import</code>, <code>from</code>, <code>pass</code>, <code>return</code>, etc. are reserved words. You can view all keywords in your current version by typing <code>help(&quot;keywords&quot;)</code> in the Python interpreter.</p>\n",
        "    </li>\n",
        "    <li>\n",
        "        <p><strong>Unlimited Length</strong>: Python does not put any restriction on the length of the identifier. However, it&apos;s recommended to keep it within a reasonable size, to maintain readability and simplicity in the code.</p>\n",
        "    </li>\n",
        "    <li>\n",
        "        <p><strong>Private Identifiers</strong>: In Python, if the identifier starts with a single underscore, it indicates that it is a non-public part of the class, module, or function. This is just a convention and Python doesn&apos;t enforce it. If it starts with two underscores, it&apos;s a strongly private identifier. If the identifier also ends with two trailing underscores, the identifier is a language-defined special name.</p>\n",
        "    </li>\n",
        "    <li>\n",
        "        <p><strong>Non-ASCII Identifiers</strong>: Python 3 allows the use of non-ASCII letters in the identifiers. This means you can use letters like &eacute;, &ntilde;, &ouml;, я, etc. in your identifiers if you wish.</p>\n",
        "    </li>\n",
        "</ol>"
      ],
      "metadata": {
        "id": "3zrHnR96q6hI"
      }
    },
    {
      "cell_type": "code",
      "source": [
        "# Valid Identifier\n",
        "\n",
        "my_name='Pranjal'\n",
        "My_name='Sharma'\n",
        "\n",
        "__My_namw=\"Pj\"\n",
        "\n",
        "## Invalid Identofier\n",
        "\n",
        "1My_name='Hi'"
      ],
      "metadata": {
        "colab": {
          "base_uri": "https://localhost:8080/",
          "height": 110
        },
        "id": "Io7fwUufqS1i",
        "outputId": "dfd73ab5-53fa-478a-b355-8f7b04373097"
      },
      "execution_count": 3,
      "outputs": [
        {
          "output_type": "error",
          "ename": "SyntaxError",
          "evalue": "invalid decimal literal (<ipython-input-3-44fd63f1798e>, line 10)",
          "traceback": [
            "\u001b[0;36m  File \u001b[0;32m\"<ipython-input-3-44fd63f1798e>\"\u001b[0;36m, line \u001b[0;32m10\u001b[0m\n\u001b[0;31m    1My_name='Hi'\u001b[0m\n\u001b[0m    ^\u001b[0m\n\u001b[0;31mSyntaxError\u001b[0m\u001b[0;31m:\u001b[0m invalid decimal literal\n"
          ]
        }
      ]
    },
    {
      "cell_type": "markdown",
      "source": [
        "# Comments"
      ],
      "metadata": {
        "id": "p5cQrLa5rv6V"
      }
    },
    {
      "cell_type": "markdown",
      "source": [
        "<p><strong>Here are some key points about comments in Python:</strong></p>\n",
        "<ol>\n",
        "    <li><strong>Definition:</strong> A comment in Python is a piece of text in your code that is not executed. It&apos;s typically used to explain what the code is doing or leave notes for developers who will be reading or maintaining the code.</li>\n",
        "    <li><strong>Single-Line Comments:</strong> Python uses the hash symbol (#) to denote a comment. Any text following the # on the same line will be ignored by the Python interpreter.&nbsp;</li>\n",
        "    <li><strong>Multi-Line Comments:</strong> Python does not have a specific syntax for multi-line comments. Developers typically use a single # for each line to create multi-line comments. Alternatively, multi-line strings using triple quotes (&apos;&apos;&apos; or &quot;&quot;&quot;) can also be used as multi-line comments because any string not assigned to a variable is ignored by Python.</li>\n",
        "    <li><strong>Docstrings or documentation strings:</strong> Docstrings are a type of comment used to explain the purpose of a function or a class. They are created using triple quotes and are placed immediately after the definition of a function or a class. Docstrings can span multiple lines and are accessible at runtime using the .__doc__ attribute.</li>\n",
        "</ol>\n",
        "<p><br></p>"
      ],
      "metadata": {
        "id": "BvWEIgv_ryTY"
      }
    },
    {
      "cell_type": "code",
      "source": [
        "# Single Line\n",
        "\n",
        "\n",
        "' Multiple line  '\n",
        "\n",
        "\"\"\"\n",
        "Another type of multiline comments\n",
        "\n",
        "\"\"\"\n",
        "\n",
        "# Doc String\n",
        "\n",
        "def fun():\n",
        "  \" This function will print 'Hello world '\"\n",
        "  print('Hello world')\n",
        "\n",
        "print(fun.__doc__)  # This function will print 'Hello world '"
      ],
      "metadata": {
        "colab": {
          "base_uri": "https://localhost:8080/"
        },
        "id": "xxeKmVWNrgNp",
        "outputId": "712ed832-c6ae-42d9-a824-a29d10f574a2"
      },
      "execution_count": 5,
      "outputs": [
        {
          "output_type": "stream",
          "name": "stdout",
          "text": [
            " This function will print 'Hello world '\n"
          ]
        }
      ]
    },
    {
      "cell_type": "markdown",
      "source": [
        "# Indentation"
      ],
      "metadata": {
        "id": "jkEgWzDLtoOs"
      }
    },
    {
      "cell_type": "markdown",
      "source": [
        "<p><strong>Indentation</strong></p>\n",
        "<ol>\n",
        "    <li>\n",
        "        <p><strong>Importance</strong>: In Python, indentation is not just for readability. It&apos;s a part of the syntax and is used to indicate a block of code.</p>\n",
        "    </li>\n",
        "    <li>\n",
        "        <p><strong>Space Usage</strong>: Python uses indentation to define the scope of loops, functions, classes, etc. The standard practice is to use four spaces for each level of indentation, but you can use any number of spaces, as long as the indentation is consistent within a block of code.</p>\n",
        "    </li>\n",
        "    <li>\n",
        "        <p><strong>Colon</strong>: Usually, a colon (<code>:</code>) at the end of the line is followed by an indented block of code. This is common with structures like <code>if</code>, <code>for</code>, <code>while</code>, <code>def</code>, <code>class</code>, etc.</p>\n",
        "    </li>\n",
        "</ol>"
      ],
      "metadata": {
        "id": "VLmV0K1btp6i"
      }
    },
    {
      "cell_type": "code",
      "source": [
        "def fun1():\n",
        "  print(\"Hi\")  # Correct Indentation\n",
        "\n",
        "def fun2():\n",
        "print('hi')  # Incorrect Indendation"
      ],
      "metadata": {
        "colab": {
          "base_uri": "https://localhost:8080/",
          "height": 110
        },
        "id": "CobMpeJbsVv2",
        "outputId": "9f576a87-fcf5-49a7-e8a1-d6b48ce3a4ae"
      },
      "execution_count": 7,
      "outputs": [
        {
          "output_type": "error",
          "ename": "IndentationError",
          "evalue": "expected an indented block after function definition on line 4 (<ipython-input-7-faa2ee6f4724>, line 5)",
          "traceback": [
            "\u001b[0;36m  File \u001b[0;32m\"<ipython-input-7-faa2ee6f4724>\"\u001b[0;36m, line \u001b[0;32m5\u001b[0m\n\u001b[0;31m    print('hi')  # Incorrect Indendation\u001b[0m\n\u001b[0m    ^\u001b[0m\n\u001b[0;31mIndentationError\u001b[0m\u001b[0;31m:\u001b[0m expected an indented block after function definition on line 4\n"
          ]
        }
      ]
    },
    {
      "cell_type": "markdown",
      "source": [
        "# Statements"
      ],
      "metadata": {
        "id": "VTnC2Z0iubEM"
      }
    },
    {
      "cell_type": "markdown",
      "source": [
        "<ol>\n",
        "    <li><strong>Definition: </strong>A statement in Python is a logical instruction that the Python interpreter can read and execute. In general, a statement performs some action or action.</li>\n",
        "    <li><strong>Types:</strong> Python includes several types of statements including assignment statements, conditional statements, looping statements, etc.</li>\n",
        "</ol>"
      ],
      "metadata": {
        "id": "ke5Y4p08ubW4"
      }
    },
    {
      "cell_type": "code",
      "source": [
        "for i in range(5):\n",
        "    print(i)"
      ],
      "metadata": {
        "colab": {
          "base_uri": "https://localhost:8080/"
        },
        "id": "iKquobgWttaR",
        "outputId": "7aef9dc4-ffb3-4416-87d4-a78ba34e1ae2"
      },
      "execution_count": 8,
      "outputs": [
        {
          "output_type": "stream",
          "name": "stdout",
          "text": [
            "0\n",
            "1\n",
            "2\n",
            "3\n",
            "4\n"
          ]
        }
      ]
    },
    {
      "cell_type": "markdown",
      "source": [
        "<strong>Multi-Line Statements</strong>: In Python, end of a statement is marked by a newline character. But we can make a statement extend over multiple lines with the line continuation character (\\), or within parentheses (), brackets [], braces {}, or strings. You can also write multiple statements on a single line using semicolons (;)"
      ],
      "metadata": {
        "id": "Zbriv-A4u2rL"
      }
    },
    {
      "cell_type": "code",
      "source": [
        "# Multi-Line Statements\n",
        "# Using line continuation character\n",
        "s = 1 + 2 + 3 + \\\n",
        "    4 + 5\n",
        "\n",
        "# Using parentheses\n",
        "s = (1 + 2 + 3 +\n",
        "     4 + 5)\n",
        "\n",
        "# Multiple Statements on a Single Line\n",
        "x = 5; y = 10; print(x + y)"
      ],
      "metadata": {
        "id": "kTU-w_qxukOI"
      },
      "execution_count": null,
      "outputs": []
    },
    {
      "cell_type": "markdown",
      "source": [
        "# Variables"
      ],
      "metadata": {
        "id": "f3m4wmGqvhvr"
      }
    },
    {
      "cell_type": "markdown",
      "source": [
        "<ol>\n",
        "    <li>\n",
        "        <p><strong>Definition</strong>: In Python, a variable is a named location used to store data in memory.</p>\n",
        "    </li>\n",
        "    <li>\n",
        "        <p><strong>Declaration and Assignment</strong>: Variables are declared by writing the variable name and assigning it a value using the equals sign (<code>=</code>). For example:</p>\n",
        "    </li>\n",
        "</ol>"
      ],
      "metadata": {
        "id": "xVdLRcLqvkgo"
      }
    },
    {
      "cell_type": "code",
      "source": [
        "name=\"Pranjal\"  # declaration of Variable"
      ],
      "metadata": {
        "id": "wVcNe2yKvjmb"
      },
      "execution_count": 9,
      "outputs": []
    },
    {
      "cell_type": "markdown",
      "source": [
        "<p><strong>Dynamic Typing</strong>: Python is dynamically typed, which means that you don&apos;t have to declare the type of a variable when you create one. You can even change the type of data held by a variable at any time.</p>"
      ],
      "metadata": {
        "id": "bTzXgH26wHqk"
      }
    },
    {
      "cell_type": "code",
      "source": [
        "x=5 # integer now\n",
        "x=' Hello' # String now\n",
        "x"
      ],
      "metadata": {
        "colab": {
          "base_uri": "https://localhost:8080/",
          "height": 36
        },
        "id": "J7Tk5CeCv85s",
        "outputId": "dbbeecc7-5342-424b-f1f5-ee1b13c70636"
      },
      "execution_count": 11,
      "outputs": [
        {
          "output_type": "execute_result",
          "data": {
            "text/plain": [
              "' Hello'"
            ],
            "application/vnd.google.colaboratory.intrinsic+json": {
              "type": "string"
            }
          },
          "metadata": {},
          "execution_count": 11
        }
      ]
    },
    {
      "cell_type": "markdown",
      "source": [
        "# Data types in Python"
      ],
      "metadata": {
        "id": "1XWNQ6AFzAoS"
      }
    },
    {
      "cell_type": "code",
      "source": [
        "# Integers: Integers are whole numbers, without a fractional component. They can be positive or negative.\n",
        "x = 10\n",
        "y = -3\n",
        "\n",
        "# Floats: Floats represent real numbers and are written with a decimal point.\n",
        "x = 10.0\n",
        "y = -3.14\n",
        "\n",
        "# Strings: Strings in Python are sequences of character data. They are created by enclosing characters in quotes.\n",
        "s = \"Hello, World!\"\n",
        "print(s)\n",
        "\n",
        "# Lists: A list in Python is an ordered collection (also known as a sequence) of items. Lists are similar to arrays in other languages, but with additional functionality.\n",
        "fruits = [\"apple\", \"banana\", \"cherry\"]\n",
        "print(fruits)\n",
        "\n",
        "# Heterogeneous Elements: A list can contain elements of different types: integers, floats, strings, and even other lists or tuples.\n",
        "mixed_list = [1, \"Alice\", 3.14, [5, 6, 7]]\n",
        "print(mixed_list)\n",
        "\n",
        "# Indexing and Slicing: Lists support indexing and slicing to access and modify their elements. Python list indices start at 0.\n",
        "my_list = [1, 2, 3, 4, 5]\n",
        "print(my_list[0])  # 1\n",
        "print(my_list[1:3])  # [2, 3]\n",
        "my_list[0] = 10  # change the first element to 10\n",
        "print(my_list)\n",
        "\n",
        "# Tuples: A tuple in Python is similar to a list. It's an ordered collection of items.\n",
        "my_tuple = (1, 2, 3, 4, 5)\n",
        "print(my_tuple)\n",
        "\n",
        "# Immutable: The major difference from lists is that tuples are immutable, which means their elements cannot be changed (no addition, modification, or deletion) after they are created.\n",
        "my_tuple = (1, 2, 3, \"Tom\", [5, 6, 7])\n",
        "print(my_tuple)\n",
        "\n",
        "# Indexing and Slicing: Tuples also support indexing and slicing, like lists, but you cannot modify their elements.\n",
        "print(my_tuple[0])  # 1\n",
        "print(my_tuple[1:3])  # (2, 3)\n",
        "\n",
        "# Dictionaries: A dictionary in Python is an unordered collection of items. Each item stored in a dictionary has a key and value, making it a key-value pair.\n",
        "person = {\"name\": \"Alice\", \"age\": 25}\n",
        "print(person)\n",
        "\n",
        "# Mutable: Dictionaries are mutable, which means you can change their elements. You can add, modify, or delete key-value pairs from a dictionary.\n",
        "my_dict = {1: \"Tom\", \"age\": 23, (1, 3): [4, 5, 3]}\n",
        "print(my_dict)\n",
        "\n",
        "# Unique Keys: Each key in a dictionary should be unique. If a dictionary is created with duplicate keys, the last assignment will overwrite the previous ones.\n",
        "my_dict = {\"name\": \"Alice\", \"name\": \"Bob\"}\n",
        "print(my_dict)  # {'name': 'Bob'}\n",
        "\n",
        "# Accessing Values: You can access a value in a dictionary by providing the corresponding key inside square brackets [].\n",
        "my_dict = {\"name\": \"Tom\", \"age\": 21}\n",
        "print(my_dict[\"name\"])  # Tom\n",
        "\n",
        "# Updating Values: You can update the value for a particular key by using the assignment operator =.\n",
        "my_dict[\"age\"] = 20\n",
        "print(my_dict)\n",
        "\n",
        "# Adding and Deleting Key-Value Pairs: You can add a new key-value pair simply by assigning a value to a new key. You can delete a key-value pair using the del keyword.\n",
        "my_dict = {\"name\": \"Tom\", \"age\": 20}\n",
        "my_dict[\"city\"] = \"New York\"  # adding a new key-value pair\n",
        "del my_dict[\"age\"]  # deleting a key-value pair\n",
        "print(my_dict)\n",
        "\n",
        "# Sets: A set is an unordered collection of items where every element is unique.\n",
        "colors = {\"red\", \"green\", \"blue\"}\n",
        "print(colors)\n",
        "\n",
        "# Type checking: To determine the type of a variable, you can use the type() function.\n",
        "x = 10\n",
        "print(type(x))\n"
      ],
      "metadata": {
        "colab": {
          "base_uri": "https://localhost:8080/"
        },
        "id": "EP5zAVtpwRBw",
        "outputId": "e1a6a942-f1e1-4aff-d01f-48493d735d61"
      },
      "execution_count": 13,
      "outputs": [
        {
          "output_type": "stream",
          "name": "stdout",
          "text": [
            "Hello, World!\n",
            "['apple', 'banana', 'cherry']\n",
            "[1, 'Alice', 3.14, [5, 6, 7]]\n",
            "1\n",
            "[2, 3]\n",
            "[10, 2, 3, 4, 5]\n",
            "(1, 2, 3, 4, 5)\n",
            "(1, 2, 3, 'Tom', [5, 6, 7])\n",
            "1\n",
            "(2, 3)\n",
            "{'name': 'Alice', 'age': 25}\n",
            "{1: 'Tom', 'age': 23, (1, 3): [4, 5, 3]}\n",
            "{'name': 'Bob'}\n",
            "Tom\n",
            "{'name': 'Tom', 'age': 20}\n",
            "{'name': 'Tom', 'city': 'New York'}\n",
            "{'red', 'blue', 'green'}\n",
            "<class 'int'>\n"
          ]
        }
      ]
    },
    {
      "cell_type": "markdown",
      "source": [
        "# Standard Input and Output"
      ],
      "metadata": {
        "id": "UCwJAphZzfpi"
      }
    },
    {
      "cell_type": "markdown",
      "source": [
        "<p><strong>Standard Output</strong></p>\n",
        "<ul>\n",
        "<li>This is typically the terminal (or the console) where the program is run. When a program wants to output some information, it will typically print to the standard output.</li>\n",
        "<li>Python provides <code>print()</code> function to send data to standard output. Here is an example:</li>\n",
        "</ul>\n",
        "<hr>\n",
        "\n",
        "\n",
        "<p><strong>Standard Input</strong>:</p>\n",
        "<ul>\n",
        "<li>This is usually the keyboard, but it can also be data coming from a file or another program.</li>\n",
        "<li>Python provides the <code>input()</code> function to read data from standard input. Here is an example:</li>\n",
        "</ul>"
      ],
      "metadata": {
        "id": "gGIlSHeYzmiq"
      }
    },
    {
      "cell_type": "code",
      "source": [
        "# Output-\n",
        "print('Welcome to Python One Shot')\n",
        "\n",
        "# Input\n",
        "age=input('What is your age?')\n",
        "print(f\"Your age is {age}\")"
      ],
      "metadata": {
        "colab": {
          "base_uri": "https://localhost:8080/"
        },
        "id": "5hVUckCnzLLJ",
        "outputId": "e47959c0-96e9-44f9-ef30-6097abe98989"
      },
      "execution_count": 14,
      "outputs": [
        {
          "output_type": "stream",
          "name": "stdout",
          "text": [
            "Welcome to Python One Shot\n",
            "What is your age?18\n",
            "Your age is 18\n"
          ]
        }
      ]
    },
    {
      "cell_type": "markdown",
      "source": [
        "# Operators\n"
      ],
      "metadata": {
        "id": "KuVw1kPw3XbJ"
      }
    },
    {
      "cell_type": "markdown",
      "source": [
        "<p>Various Operators in Python are:</p>\n",
        "<ul>\n",
        "<li>Arithmetic operators</li>\n",
        "<li>Assignment operators</li>\n",
        "<li>Comparison operators</li>\n",
        "<li>Logical operators</li>\n",
        "<li>Identity operators</li>\n",
        "<li>Membership operators</li>\n",
        "<li>Bitwise operators</li>\n",
        "</ul>"
      ],
      "metadata": {
        "id": "R3EHRC7s3aE5"
      }
    },
    {
      "cell_type": "code",
      "source": [
        "# Arithmetic Operators\n",
        "a = 10\n",
        "b = 3\n",
        "\n",
        "# Addition\n",
        "print(a + b)  # Output: 13\n",
        "\n",
        "# Subtraction\n",
        "print(a - b)  # Output: 7\n",
        "\n",
        "# Multiplication\n",
        "print(a * b)  # Output: 30\n",
        "\n",
        "# Division\n",
        "print(a / b)  # Output: 3.3333333333333335\n",
        "\n",
        "# Floor Division\n",
        "print(a // b) # Output: 3\n",
        "\n",
        "# Modulus\n",
        "print(a % b)  # Output: 1\n",
        "\n",
        "# Exponent\n",
        "print(a ** b) # Output: 1000\n",
        "\n",
        "# Assignment Operators\n",
        "a = 10\n",
        "print(a)  # Output: 10\n",
        "\n",
        "a += 5\n",
        "print(a)  # Output: 15\n",
        "\n",
        "a -= 3\n",
        "print(a)  # Output: 12\n",
        "\n",
        "a *= 2\n",
        "print(a)  # Output: 24\n",
        "\n",
        "a /= 6\n",
        "print(a)  # Output: 4.0\n",
        "\n",
        "# Comparison Operators\n",
        "a = 10\n",
        "b = 20\n",
        "\n",
        "# Equal to\n",
        "print(a == b)  # Output: False\n",
        "\n",
        "# Not equal to\n",
        "print(a != b)  # Output: True\n",
        "\n",
        "# Greater than\n",
        "print(a > b)   # Output: False\n",
        "\n",
        "# Less than\n",
        "print(a < b)   # Output: True\n",
        "\n",
        "# Greater than or equal to\n",
        "print(a >= b)  # Output: False\n",
        "\n",
        "# Less than or equal to\n",
        "print(a <= b)  # Output: True\n",
        "\n",
        "# Logical Operators\n",
        "a = True\n",
        "b = False\n",
        "\n",
        "# Logical AND\n",
        "print(a and b) # Output: False\n",
        "\n",
        "# Logical OR\n",
        "print(a or b)  # Output: True\n",
        "\n",
        "# Logical NOT\n",
        "print(not a)   # Output: False\n",
        "\n",
        "# Bitwise Operators\n",
        "a = 10\n",
        "b = 4\n",
        "\n",
        "# AND Operator &\n",
        "result = a & b\n",
        "print(result)  # Output: 0\n",
        "\n",
        "# OR Operator |\n",
        "result = a | b\n",
        "print(result)  # Output: 14\n",
        "\n",
        "# NOT Operator ~\n",
        "result = ~a\n",
        "print(result)  # Output: -11\n",
        "\n",
        "# XOR Operator ^\n",
        "result = a ^ b\n",
        "print(result)  # Output: 14\n",
        "\n",
        "# Right Shift Operator >>\n",
        "result = a >> 2\n",
        "print(result)  # Output: 2\n",
        "\n",
        "# Left Shift Operator <<\n",
        "result = a << 2\n",
        "print(result)  # Output: 40\n",
        "\n",
        "# Membership Operators\n",
        "my_list = [1, 2, 3, 4, 5]\n",
        "\n",
        "# In\n",
        "print(1 in my_list)    # Output: True\n",
        "\n",
        "# Not In\n",
        "print(6 not in my_list) # Output: True\n",
        "\n",
        "# Identity Operators\n",
        "# Integers (immutable)\n",
        "a = 10\n",
        "b = 10\n",
        "print(a is b)  # True (same memory location for small integers)\n",
        "\n",
        "# Strings (immutable)\n",
        "c = \"hello\"\n",
        "d = \"hello\"\n",
        "print(c is d)  # True (often same memory location for small strings)\n",
        "\n",
        "# Lists (mutable)\n",
        "e = [1, 2, 3]\n",
        "f = [1, 2, 3]\n",
        "print(e is f)  # False (different memory locations for mutable objects)\n",
        "\n",
        "# Type checking\n",
        "x = 10\n",
        "print(type(x))  # Output: <class 'int'>\n"
      ],
      "metadata": {
        "colab": {
          "base_uri": "https://localhost:8080/"
        },
        "id": "kclH5NhI0JXx",
        "outputId": "4733d474-5bfc-4a14-f462-2eb53f977bc3"
      },
      "execution_count": 15,
      "outputs": [
        {
          "output_type": "stream",
          "name": "stdout",
          "text": [
            "13\n",
            "7\n",
            "30\n",
            "3.3333333333333335\n",
            "3\n",
            "1\n",
            "1000\n",
            "10\n",
            "15\n",
            "12\n",
            "24\n",
            "4.0\n",
            "False\n",
            "True\n",
            "False\n",
            "True\n",
            "False\n",
            "True\n",
            "False\n",
            "True\n",
            "False\n",
            "0\n",
            "14\n",
            "-11\n",
            "14\n",
            "2\n",
            "40\n",
            "True\n",
            "True\n",
            "True\n",
            "True\n",
            "False\n",
            "<class 'int'>\n"
          ]
        }
      ]
    },
    {
      "cell_type": "markdown",
      "source": [
        "# Control flow: if else elif"
      ],
      "metadata": {
        "id": "E_55AIlcBuPU"
      }
    },
    {
      "cell_type": "markdown",
      "source": [
        "<p>&nbsp;Conditional statements are used to execute or skip blocks of code based on certain conditions. The if, elif, and else keywords are used to define these conditional statements.</p>"
      ],
      "metadata": {
        "id": "X_T8OycWBwao"
      }
    },
    {
      "cell_type": "code",
      "source": [
        "score = 95\n",
        "if score >= 90:\n",
        "    print(\"Grade is A\")\n",
        "elif score >= 80:\n",
        "    print(\"Grade is B\")\n",
        "elif score >= 70:\n",
        "    print(\"Grade is C\")\n",
        "else:\n",
        "    print(\"Grade is D\")"
      ],
      "metadata": {
        "colab": {
          "base_uri": "https://localhost:8080/"
        },
        "id": "pNM5PcqJBvx5",
        "outputId": "f8c0e30f-84e7-46a0-c479-891ab54969eb"
      },
      "execution_count": 17,
      "outputs": [
        {
          "output_type": "stream",
          "name": "stdout",
          "text": [
            "Grade is A\n"
          ]
        }
      ]
    },
    {
      "cell_type": "code",
      "source": [],
      "metadata": {
        "id": "7cYPp1MgByTy"
      },
      "execution_count": null,
      "outputs": []
    },
    {
      "cell_type": "markdown",
      "source": [
        "#  Loops"
      ],
      "metadata": {
        "id": "7A2fTLT-CWQE"
      }
    },
    {
      "cell_type": "code",
      "source": [
        "# Mastering Python Loops: A Comprehensive Guide\n",
        "\n",
        "# 1. For Loop: The Workhorse of Iteration\n",
        "\n",
        "# Basic Iteration with `range()` Function\n",
        "for i in range(5):\n",
        "    print(i)\n",
        "\n",
        "# Iterating Over Lists\n",
        "country = [\"India\", \"UK\", \"USA\", \"Germany\"]\n",
        "for ct in country:\n",
        "    print(ct)\n",
        "\n",
        "# Pattern Printing\n",
        "for i in range(5):\n",
        "    for j in range(i+1):\n",
        "        print('*', end=' ')\n",
        "    print()\n",
        "\n",
        "# 2. Nested For Loop: Unleashing the Power\n",
        "\n",
        "# Multiplication Table\n",
        "for i in range(1, 6):\n",
        "    for j in range(1, 6):\n",
        "        print(i * j, end='\\t')\n",
        "    print()\n",
        "\n",
        "# Pattern with Numbers\n",
        "initial_num = 16\n",
        "lines = 4\n",
        "for i in range(lines):\n",
        "    num = initial_num\n",
        "    for j in range(i + 1):\n",
        "        print(num, end=' ')\n",
        "        num //= 2\n",
        "    print()\n",
        "\n",
        "# 3. While Loop: Dynamic Iteration\n",
        "\n",
        "# Basic Usage\n",
        "count = 1\n",
        "while count <= 5:\n",
        "    print(count)\n",
        "    count += 1\n",
        "\n",
        "# Interactive Input Loop\n",
        "text = \"\"\n",
        "while text != \"quit\":\n",
        "    text = input(\"Enter a word (or quit to exit):\")\n",
        "    print(\"You entered:\", text)\n",
        "\n",
        "# Dynamic Salary Update\n",
        "names = [\"Alice\", \"Tom\", \"Marry\", \"James\"]\n",
        "salary = [30000, 40000, 45000, 40000]\n",
        "for i in range(len(names)):\n",
        "    if names[i] == \"James\":\n",
        "        increment = salary[i] * 0.05\n",
        "        salary[i] += increment\n",
        "print(salary)\n",
        "\n",
        "# Time-Limited Loop\n",
        "import time\n",
        "start_time = time.time()\n",
        "duration = 10\n",
        "while time.time() - start_time < duration:\n",
        "    print(\"hi\")\n",
        "    time.sleep(0.3)\n"
      ],
      "metadata": {
        "colab": {
          "base_uri": "https://localhost:8080/"
        },
        "id": "TvJbVemNCXTF",
        "outputId": "804d2ee6-7c05-4ba3-ab30-7d403823be9c"
      },
      "execution_count": 18,
      "outputs": [
        {
          "output_type": "stream",
          "name": "stdout",
          "text": [
            "0\n",
            "1\n",
            "2\n",
            "3\n",
            "4\n",
            "India\n",
            "UK\n",
            "USA\n",
            "Germany\n",
            "* \n",
            "* * \n",
            "* * * \n",
            "* * * * \n",
            "* * * * * \n",
            "1\t2\t3\t4\t5\t\n",
            "2\t4\t6\t8\t10\t\n",
            "3\t6\t9\t12\t15\t\n",
            "4\t8\t12\t16\t20\t\n",
            "5\t10\t15\t20\t25\t\n",
            "16 \n",
            "16 8 \n",
            "16 8 4 \n",
            "16 8 4 2 \n",
            "1\n",
            "2\n",
            "3\n",
            "4\n",
            "5\n",
            "Enter a word (or quit to exit):s\n",
            "You entered: s\n",
            "Enter a word (or quit to exit):quiet'\n",
            "You entered: quiet'\n",
            "Enter a word (or quit to exit):quit\n",
            "You entered: quit\n",
            "[30000, 40000, 45000, 42000.0]\n",
            "hi\n",
            "hi\n",
            "hi\n",
            "hi\n",
            "hi\n",
            "hi\n",
            "hi\n",
            "hi\n",
            "hi\n",
            "hi\n",
            "hi\n",
            "hi\n",
            "hi\n",
            "hi\n",
            "hi\n",
            "hi\n",
            "hi\n",
            "hi\n",
            "hi\n",
            "hi\n",
            "hi\n",
            "hi\n",
            "hi\n",
            "hi\n",
            "hi\n",
            "hi\n",
            "hi\n",
            "hi\n",
            "hi\n",
            "hi\n",
            "hi\n",
            "hi\n",
            "hi\n",
            "hi\n"
          ]
        }
      ]
    },
    {
      "cell_type": "code",
      "source": [],
      "metadata": {
        "id": "XrZ1wbgtD1od"
      },
      "execution_count": null,
      "outputs": []
    }
  ]
}